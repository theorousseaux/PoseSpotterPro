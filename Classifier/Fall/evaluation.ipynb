{
 "cells": [
  {
   "cell_type": "markdown",
   "metadata": {},
   "source": [
    "# Import and load model"
   ]
  },
  {
   "cell_type": "code",
   "execution_count": 1,
   "metadata": {},
   "outputs": [],
   "source": [
    "import sys\n",
    "import os\n",
    "import pickle\n",
    "import numpy as np\n",
    "import pandas as pd\n",
    "import matplotlib.pyplot as plt\n",
    "import seaborn as sns\n",
    "from sklearn.pipeline import Pipeline\n",
    "from sklearn.model_selection import train_test_split\n",
    "from sklearn.metrics import confusion_matrix, classification_report\n",
    "from data_preparation import WindowFeatureExtractor"
   ]
  },
  {
   "cell_type": "code",
   "execution_count": 2,
   "metadata": {},
   "outputs": [],
   "source": [
    "poses_sequence_path = '../../Data/Fall/Dataset_CAUCAFall/Poses_sequences/'\n",
    "file_list = os.listdir(poses_sequence_path)\n",
    "file_list = [poses_sequence_path + file_name for file_name in file_list]"
   ]
  },
  {
   "cell_type": "code",
   "execution_count": 3,
   "metadata": {},
   "outputs": [],
   "source": [
    "window_size = 10\n",
    "step_size = 5\n",
    "window_feature_extractor = WindowFeatureExtractor(window_size=window_size, step_size=step_size)\n",
    "# then we can create our training and test set, and make a grid search over the model parameters\n",
    "X, y = window_feature_extractor.prepare_data(file_list)"
   ]
  },
  {
   "cell_type": "code",
   "execution_count": 4,
   "metadata": {},
   "outputs": [
    {
     "name": "stdout",
     "output_type": "stream",
     "text": [
      "X shape:  (3859, 136)\n",
      "y shape:  (3859,)\n",
      "X shape:  (3858, 136)\n",
      "y shape:  (3858,)\n"
     ]
    }
   ],
   "source": [
    "print('X shape: ', X.shape)\n",
    "print('y shape: ', y.shape)\n",
    "nan_index = np.where(y=='nan')[0]\n",
    "X = X.drop(nan_index, axis=0)\n",
    "y = np.delete(y, nan_index, axis=0)\n",
    "print('X shape: ', X.shape)\n",
    "print('y shape: ', y.shape)"
   ]
  },
  {
   "cell_type": "code",
   "execution_count": 5,
   "metadata": {},
   "outputs": [],
   "source": [
    "X_train, X_test, y_train, y_test = train_test_split(X, y, test_size=0.2, random_state=42)"
   ]
  },
  {
   "cell_type": "code",
   "execution_count": 6,
   "metadata": {},
   "outputs": [
    {
     "data": {
      "text/html": [
       "<div>\n",
       "<style scoped>\n",
       "    .dataframe tbody tr th:only-of-type {\n",
       "        vertical-align: middle;\n",
       "    }\n",
       "\n",
       "    .dataframe tbody tr th {\n",
       "        vertical-align: top;\n",
       "    }\n",
       "\n",
       "    .dataframe thead th {\n",
       "        text-align: right;\n",
       "    }\n",
       "</style>\n",
       "<table border=\"1\" class=\"dataframe\">\n",
       "  <thead>\n",
       "    <tr style=\"text-align: right;\">\n",
       "      <th></th>\n",
       "      <th>X_nose_mean</th>\n",
       "      <th>X_nose_std</th>\n",
       "      <th>X_nose_min</th>\n",
       "      <th>X_nose_max</th>\n",
       "      <th>Y_nose_mean</th>\n",
       "      <th>Y_nose_std</th>\n",
       "      <th>Y_nose_min</th>\n",
       "      <th>Y_nose_max</th>\n",
       "      <th>X_left_eye_mean</th>\n",
       "      <th>X_left_eye_std</th>\n",
       "      <th>...</th>\n",
       "      <th>Y_left_ankle_min</th>\n",
       "      <th>Y_left_ankle_max</th>\n",
       "      <th>X_right_ankle_mean</th>\n",
       "      <th>X_right_ankle_std</th>\n",
       "      <th>X_right_ankle_min</th>\n",
       "      <th>X_right_ankle_max</th>\n",
       "      <th>Y_right_ankle_mean</th>\n",
       "      <th>Y_right_ankle_std</th>\n",
       "      <th>Y_right_ankle_min</th>\n",
       "      <th>Y_right_ankle_max</th>\n",
       "    </tr>\n",
       "  </thead>\n",
       "  <tbody>\n",
       "    <tr>\n",
       "      <th>2463</th>\n",
       "      <td>265.882594</td>\n",
       "      <td>5.077179</td>\n",
       "      <td>259.647190</td>\n",
       "      <td>273.375912</td>\n",
       "      <td>245.112982</td>\n",
       "      <td>2.953655</td>\n",
       "      <td>240.141490</td>\n",
       "      <td>250.677685</td>\n",
       "      <td>274.120388</td>\n",
       "      <td>6.216879</td>\n",
       "      <td>...</td>\n",
       "      <td>319.246897</td>\n",
       "      <td>322.546883</td>\n",
       "      <td>319.048613</td>\n",
       "      <td>28.254774</td>\n",
       "      <td>285.194084</td>\n",
       "      <td>341.737665</td>\n",
       "      <td>319.488969</td>\n",
       "      <td>2.065148</td>\n",
       "      <td>317.338556</td>\n",
       "      <td>323.369821</td>\n",
       "    </tr>\n",
       "    <tr>\n",
       "      <th>798</th>\n",
       "      <td>442.288264</td>\n",
       "      <td>1.511970</td>\n",
       "      <td>439.799766</td>\n",
       "      <td>445.446533</td>\n",
       "      <td>268.499913</td>\n",
       "      <td>1.938272</td>\n",
       "      <td>265.026580</td>\n",
       "      <td>270.998848</td>\n",
       "      <td>445.029476</td>\n",
       "      <td>1.154548</td>\n",
       "      <td>...</td>\n",
       "      <td>342.356908</td>\n",
       "      <td>344.667841</td>\n",
       "      <td>267.215973</td>\n",
       "      <td>0.659787</td>\n",
       "      <td>266.300618</td>\n",
       "      <td>268.283881</td>\n",
       "      <td>309.127523</td>\n",
       "      <td>0.538134</td>\n",
       "      <td>308.287611</td>\n",
       "      <td>309.984369</td>\n",
       "    </tr>\n",
       "    <tr>\n",
       "      <th>3430</th>\n",
       "      <td>203.813928</td>\n",
       "      <td>5.875530</td>\n",
       "      <td>195.414391</td>\n",
       "      <td>213.106307</td>\n",
       "      <td>136.305148</td>\n",
       "      <td>4.379764</td>\n",
       "      <td>131.248095</td>\n",
       "      <td>143.515792</td>\n",
       "      <td>203.817102</td>\n",
       "      <td>5.831910</td>\n",
       "      <td>...</td>\n",
       "      <td>271.870561</td>\n",
       "      <td>305.820479</td>\n",
       "      <td>270.250692</td>\n",
       "      <td>0.662268</td>\n",
       "      <td>269.222686</td>\n",
       "      <td>270.956857</td>\n",
       "      <td>287.624474</td>\n",
       "      <td>0.929578</td>\n",
       "      <td>286.832943</td>\n",
       "      <td>289.672159</td>\n",
       "    </tr>\n",
       "    <tr>\n",
       "      <th>2338</th>\n",
       "      <td>248.791216</td>\n",
       "      <td>2.632082</td>\n",
       "      <td>246.218394</td>\n",
       "      <td>253.461107</td>\n",
       "      <td>246.295754</td>\n",
       "      <td>9.178849</td>\n",
       "      <td>235.481787</td>\n",
       "      <td>265.379076</td>\n",
       "      <td>253.904256</td>\n",
       "      <td>2.898881</td>\n",
       "      <td>...</td>\n",
       "      <td>306.966161</td>\n",
       "      <td>324.800666</td>\n",
       "      <td>335.456289</td>\n",
       "      <td>1.846960</td>\n",
       "      <td>332.987473</td>\n",
       "      <td>338.608262</td>\n",
       "      <td>312.058963</td>\n",
       "      <td>2.107746</td>\n",
       "      <td>309.675951</td>\n",
       "      <td>315.620970</td>\n",
       "    </tr>\n",
       "    <tr>\n",
       "      <th>2266</th>\n",
       "      <td>238.027008</td>\n",
       "      <td>7.630311</td>\n",
       "      <td>226.691402</td>\n",
       "      <td>252.906561</td>\n",
       "      <td>318.140379</td>\n",
       "      <td>9.332981</td>\n",
       "      <td>306.617153</td>\n",
       "      <td>334.054699</td>\n",
       "      <td>239.740227</td>\n",
       "      <td>5.500763</td>\n",
       "      <td>...</td>\n",
       "      <td>319.289074</td>\n",
       "      <td>326.101398</td>\n",
       "      <td>298.913446</td>\n",
       "      <td>26.469269</td>\n",
       "      <td>271.000078</td>\n",
       "      <td>325.218403</td>\n",
       "      <td>324.416754</td>\n",
       "      <td>2.670833</td>\n",
       "      <td>320.494129</td>\n",
       "      <td>328.152180</td>\n",
       "    </tr>\n",
       "    <tr>\n",
       "      <th>...</th>\n",
       "      <td>...</td>\n",
       "      <td>...</td>\n",
       "      <td>...</td>\n",
       "      <td>...</td>\n",
       "      <td>...</td>\n",
       "      <td>...</td>\n",
       "      <td>...</td>\n",
       "      <td>...</td>\n",
       "      <td>...</td>\n",
       "      <td>...</td>\n",
       "      <td>...</td>\n",
       "      <td>...</td>\n",
       "      <td>...</td>\n",
       "      <td>...</td>\n",
       "      <td>...</td>\n",
       "      <td>...</td>\n",
       "      <td>...</td>\n",
       "      <td>...</td>\n",
       "      <td>...</td>\n",
       "      <td>...</td>\n",
       "      <td>...</td>\n",
       "    </tr>\n",
       "    <tr>\n",
       "      <th>1130</th>\n",
       "      <td>487.430884</td>\n",
       "      <td>2.124404</td>\n",
       "      <td>484.248919</td>\n",
       "      <td>489.632826</td>\n",
       "      <td>291.887222</td>\n",
       "      <td>2.877877</td>\n",
       "      <td>287.839821</td>\n",
       "      <td>294.847498</td>\n",
       "      <td>487.350806</td>\n",
       "      <td>1.618530</td>\n",
       "      <td>...</td>\n",
       "      <td>265.974466</td>\n",
       "      <td>273.211073</td>\n",
       "      <td>330.890490</td>\n",
       "      <td>2.678299</td>\n",
       "      <td>326.543000</td>\n",
       "      <td>334.564284</td>\n",
       "      <td>298.936378</td>\n",
       "      <td>0.730843</td>\n",
       "      <td>297.401701</td>\n",
       "      <td>300.037277</td>\n",
       "    </tr>\n",
       "    <tr>\n",
       "      <th>1294</th>\n",
       "      <td>464.091850</td>\n",
       "      <td>9.506798</td>\n",
       "      <td>447.676090</td>\n",
       "      <td>475.400798</td>\n",
       "      <td>79.166910</td>\n",
       "      <td>2.075108</td>\n",
       "      <td>77.462682</td>\n",
       "      <td>82.805443</td>\n",
       "      <td>469.935845</td>\n",
       "      <td>9.779411</td>\n",
       "      <td>...</td>\n",
       "      <td>284.272359</td>\n",
       "      <td>286.325097</td>\n",
       "      <td>459.695610</td>\n",
       "      <td>8.899427</td>\n",
       "      <td>450.975738</td>\n",
       "      <td>473.638561</td>\n",
       "      <td>285.684767</td>\n",
       "      <td>5.323710</td>\n",
       "      <td>276.806534</td>\n",
       "      <td>293.405179</td>\n",
       "    </tr>\n",
       "    <tr>\n",
       "      <th>860</th>\n",
       "      <td>413.010008</td>\n",
       "      <td>1.183682</td>\n",
       "      <td>410.687831</td>\n",
       "      <td>415.018899</td>\n",
       "      <td>229.167218</td>\n",
       "      <td>0.891958</td>\n",
       "      <td>227.884551</td>\n",
       "      <td>230.409038</td>\n",
       "      <td>415.410399</td>\n",
       "      <td>1.044926</td>\n",
       "      <td>...</td>\n",
       "      <td>324.695098</td>\n",
       "      <td>329.085839</td>\n",
       "      <td>263.163640</td>\n",
       "      <td>0.588291</td>\n",
       "      <td>262.328450</td>\n",
       "      <td>264.215620</td>\n",
       "      <td>302.370675</td>\n",
       "      <td>0.994471</td>\n",
       "      <td>301.093598</td>\n",
       "      <td>303.738089</td>\n",
       "    </tr>\n",
       "    <tr>\n",
       "      <th>3508</th>\n",
       "      <td>347.520075</td>\n",
       "      <td>3.716943</td>\n",
       "      <td>340.981765</td>\n",
       "      <td>352.205965</td>\n",
       "      <td>118.947352</td>\n",
       "      <td>4.468350</td>\n",
       "      <td>111.383724</td>\n",
       "      <td>123.595544</td>\n",
       "      <td>353.849177</td>\n",
       "      <td>3.461556</td>\n",
       "      <td>...</td>\n",
       "      <td>310.282781</td>\n",
       "      <td>314.655506</td>\n",
       "      <td>370.371884</td>\n",
       "      <td>8.459607</td>\n",
       "      <td>359.428461</td>\n",
       "      <td>380.581966</td>\n",
       "      <td>295.745227</td>\n",
       "      <td>7.664124</td>\n",
       "      <td>284.215668</td>\n",
       "      <td>307.773014</td>\n",
       "    </tr>\n",
       "    <tr>\n",
       "      <th>3175</th>\n",
       "      <td>296.037569</td>\n",
       "      <td>2.671616</td>\n",
       "      <td>293.726993</td>\n",
       "      <td>300.952400</td>\n",
       "      <td>109.973244</td>\n",
       "      <td>1.750581</td>\n",
       "      <td>106.747558</td>\n",
       "      <td>113.365121</td>\n",
       "      <td>298.086397</td>\n",
       "      <td>2.695252</td>\n",
       "      <td>...</td>\n",
       "      <td>312.661187</td>\n",
       "      <td>314.653487</td>\n",
       "      <td>373.056111</td>\n",
       "      <td>0.459131</td>\n",
       "      <td>372.302555</td>\n",
       "      <td>373.731422</td>\n",
       "      <td>295.929025</td>\n",
       "      <td>0.747374</td>\n",
       "      <td>294.850432</td>\n",
       "      <td>297.374795</td>\n",
       "    </tr>\n",
       "  </tbody>\n",
       "</table>\n",
       "<p>3086 rows × 136 columns</p>\n",
       "</div>"
      ],
      "text/plain": [
       "      X_nose_mean  X_nose_std  X_nose_min  X_nose_max  Y_nose_mean  \\\n",
       "2463   265.882594    5.077179  259.647190  273.375912   245.112982   \n",
       "798    442.288264    1.511970  439.799766  445.446533   268.499913   \n",
       "3430   203.813928    5.875530  195.414391  213.106307   136.305148   \n",
       "2338   248.791216    2.632082  246.218394  253.461107   246.295754   \n",
       "2266   238.027008    7.630311  226.691402  252.906561   318.140379   \n",
       "...           ...         ...         ...         ...          ...   \n",
       "1130   487.430884    2.124404  484.248919  489.632826   291.887222   \n",
       "1294   464.091850    9.506798  447.676090  475.400798    79.166910   \n",
       "860    413.010008    1.183682  410.687831  415.018899   229.167218   \n",
       "3508   347.520075    3.716943  340.981765  352.205965   118.947352   \n",
       "3175   296.037569    2.671616  293.726993  300.952400   109.973244   \n",
       "\n",
       "      Y_nose_std  Y_nose_min  Y_nose_max  X_left_eye_mean  X_left_eye_std  \\\n",
       "2463    2.953655  240.141490  250.677685       274.120388        6.216879   \n",
       "798     1.938272  265.026580  270.998848       445.029476        1.154548   \n",
       "3430    4.379764  131.248095  143.515792       203.817102        5.831910   \n",
       "2338    9.178849  235.481787  265.379076       253.904256        2.898881   \n",
       "2266    9.332981  306.617153  334.054699       239.740227        5.500763   \n",
       "...          ...         ...         ...              ...             ...   \n",
       "1130    2.877877  287.839821  294.847498       487.350806        1.618530   \n",
       "1294    2.075108   77.462682   82.805443       469.935845        9.779411   \n",
       "860     0.891958  227.884551  230.409038       415.410399        1.044926   \n",
       "3508    4.468350  111.383724  123.595544       353.849177        3.461556   \n",
       "3175    1.750581  106.747558  113.365121       298.086397        2.695252   \n",
       "\n",
       "      ...  Y_left_ankle_min  Y_left_ankle_max  X_right_ankle_mean  \\\n",
       "2463  ...        319.246897        322.546883          319.048613   \n",
       "798   ...        342.356908        344.667841          267.215973   \n",
       "3430  ...        271.870561        305.820479          270.250692   \n",
       "2338  ...        306.966161        324.800666          335.456289   \n",
       "2266  ...        319.289074        326.101398          298.913446   \n",
       "...   ...               ...               ...                 ...   \n",
       "1130  ...        265.974466        273.211073          330.890490   \n",
       "1294  ...        284.272359        286.325097          459.695610   \n",
       "860   ...        324.695098        329.085839          263.163640   \n",
       "3508  ...        310.282781        314.655506          370.371884   \n",
       "3175  ...        312.661187        314.653487          373.056111   \n",
       "\n",
       "      X_right_ankle_std  X_right_ankle_min  X_right_ankle_max  \\\n",
       "2463          28.254774         285.194084         341.737665   \n",
       "798            0.659787         266.300618         268.283881   \n",
       "3430           0.662268         269.222686         270.956857   \n",
       "2338           1.846960         332.987473         338.608262   \n",
       "2266          26.469269         271.000078         325.218403   \n",
       "...                 ...                ...                ...   \n",
       "1130           2.678299         326.543000         334.564284   \n",
       "1294           8.899427         450.975738         473.638561   \n",
       "860            0.588291         262.328450         264.215620   \n",
       "3508           8.459607         359.428461         380.581966   \n",
       "3175           0.459131         372.302555         373.731422   \n",
       "\n",
       "      Y_right_ankle_mean  Y_right_ankle_std  Y_right_ankle_min  \\\n",
       "2463          319.488969           2.065148         317.338556   \n",
       "798           309.127523           0.538134         308.287611   \n",
       "3430          287.624474           0.929578         286.832943   \n",
       "2338          312.058963           2.107746         309.675951   \n",
       "2266          324.416754           2.670833         320.494129   \n",
       "...                  ...                ...                ...   \n",
       "1130          298.936378           0.730843         297.401701   \n",
       "1294          285.684767           5.323710         276.806534   \n",
       "860           302.370675           0.994471         301.093598   \n",
       "3508          295.745227           7.664124         284.215668   \n",
       "3175          295.929025           0.747374         294.850432   \n",
       "\n",
       "      Y_right_ankle_max  \n",
       "2463         323.369821  \n",
       "798          309.984369  \n",
       "3430         289.672159  \n",
       "2338         315.620970  \n",
       "2266         328.152180  \n",
       "...                 ...  \n",
       "1130         300.037277  \n",
       "1294         293.405179  \n",
       "860          303.738089  \n",
       "3508         307.773014  \n",
       "3175         297.374795  \n",
       "\n",
       "[3086 rows x 136 columns]"
      ]
     },
     "execution_count": 6,
     "metadata": {},
     "output_type": "execute_result"
    }
   ],
   "source": [
    "X_train"
   ]
  },
  {
   "cell_type": "code",
   "execution_count": 7,
   "metadata": {},
   "outputs": [
    {
     "name": "stdout",
     "output_type": "stream",
     "text": [
      "['Fall' 'Lying down' 'Normal']\n"
     ]
    },
    {
     "data": {
      "text/plain": [
       "{'Normal': 1, 'Fall': 5, 'Lying down': 3}"
      ]
     },
     "execution_count": 7,
     "metadata": {},
     "output_type": "execute_result"
    }
   ],
   "source": [
    "scaler = pickle.load(open('models/standardScaler_window_{}_step_{}.sav'.format(window_size, step_size), 'rb'))\n",
    "random_forest = pickle.load(open('models/randomForest_window_{}_step_{}.sav'.format(window_size, step_size), 'rb'))\n",
    "print(random_forest.classes_)\n",
    "random_forest.class_weight"
   ]
  },
  {
   "cell_type": "code",
   "execution_count": 8,
   "metadata": {},
   "outputs": [],
   "source": [
    "X_train_scaled = scaler.fit_transform(X_train)\n",
    "X_test_scaled = scaler.transform(X_test)"
   ]
  },
  {
   "cell_type": "markdown",
   "metadata": {},
   "source": [
    "## Perform evaluation and confusion matrix"
   ]
  },
  {
   "cell_type": "code",
   "execution_count": 9,
   "metadata": {},
   "outputs": [
    {
     "name": "stdout",
     "output_type": "stream",
     "text": [
      "Test score: 0.9702072538860104\n",
      "Classification Report:\n",
      "               precision    recall  f1-score   support\n",
      "\n",
      "        Fall       0.95      0.75      0.84        75\n",
      "  Lying down       0.97      0.99      0.98       204\n",
      "      Normal       0.97      1.00      0.98       493\n",
      "\n",
      "    accuracy                           0.97       772\n",
      "   macro avg       0.96      0.91      0.93       772\n",
      "weighted avg       0.97      0.97      0.97       772\n",
      "\n"
     ]
    }
   ],
   "source": [
    "y_pred = random_forest.predict(X_test_scaled)\n",
    "print(\"Test score:\", random_forest.score(X_test_scaled, y_test))\n",
    "report = classification_report(y_test, y_pred)\n",
    "print(\"Classification Report:\\n\", report)"
   ]
  },
  {
   "cell_type": "code",
   "execution_count": 10,
   "metadata": {},
   "outputs": [],
   "source": [
    "conf = confusion_matrix(y_test, y_pred)"
   ]
  },
  {
   "cell_type": "code",
   "execution_count": 11,
   "metadata": {},
   "outputs": [
    {
     "name": "stdout",
     "output_type": "stream",
     "text": [
      "['Fall' 'Lying down' 'Normal']\n"
     ]
    },
    {
     "data": {
      "image/png": "[encoded data removed]",
      "text/plain": [
       "<Figure size 750x750 with 1 Axes>"
      ]
     },
     "metadata": {},
     "output_type": "display_data"
    }
   ],
   "source": [
    "def plot_confusion_matrix(conf_matrix, labels):\n",
    "    fig, ax = plt.subplots(figsize=(7.5, 7.5))\n",
    "    ax.matshow(conf_matrix, cmap=plt.cm.Blues, alpha=0.5)\n",
    "    for i in range(conf_matrix.shape[0]):\n",
    "        for j in range(conf_matrix.shape[1]):\n",
    "            ax.text(x=j, y=i,s=conf_matrix[i, j], va='center', ha='center', size='x-large')\n",
    "    \n",
    "    ax.set_yticks(range(len(labels)))\n",
    "    ax.set_yticklabels(labels, rotation=45)\n",
    "\n",
    "    ax.set_xticks(range(len(labels)))\n",
    "    ax.set_xticklabels(labels, rotation=45)\n",
    "    \n",
    "    plt.xlabel('Predictions', fontsize=18)\n",
    "    plt.ylabel('Ground Truth', fontsize=18)\n",
    "    plt.title('Confusion Matrix', fontsize=18)\n",
    "    plt.show()\n",
    "\n",
    "labels = np.unique(y_test)\n",
    "print(labels)\n",
    "plot_confusion_matrix(conf, labels)"
   ]
  },
  {
   "cell_type": "markdown",
   "metadata": {},
   "source": [
    "## Plot features importance"
   ]
  },
  {
   "cell_type": "code",
   "execution_count": 12,
   "metadata": {},
   "outputs": [],
   "source": [
    "features_name = scaler.feature_names_in_"
   ]
  },
  {
   "cell_type": "code",
   "execution_count": 13,
   "metadata": {},
   "outputs": [],
   "source": [
    "features_importance_series = pd.Series(random_forest.feature_importances_, index=features_name)"
   ]
  },
  {
   "cell_type": "code",
   "execution_count": 14,
   "metadata": {},
   "outputs": [
    {
     "data": {
      "text/plain": [
       "Y_right_ear_mean    0.030366\n",
       "Y_right_ear_min     0.029432\n",
       "Y_left_ear_min      0.027070\n",
       "Y_right_ear_max     0.020185\n",
       "Y_left_hip_std      0.019442\n",
       "X_left_ear_std      0.019280\n",
       "X_right_ear_std     0.018493\n",
       "X_left_hip_std      0.016988\n",
       "Y_right_ear_std     0.016947\n",
       "Y_left_ear_max      0.016258\n",
       "dtype: float64"
      ]
     },
     "execution_count": 14,
     "metadata": {},
     "output_type": "execute_result"
    }
   ],
   "source": [
    "features_importance_series.sort_values(ascending=False, inplace=True)\n",
    "features_importance_series.head(10)"
   ]
  },
  {
   "cell_type": "code",
   "execution_count": 15,
   "metadata": {},
   "outputs": [
    {
     "data": {
      "text/plain": [
       "<Axes: >"
      ]
     },
     "execution_count": 15,
     "metadata": {},
     "output_type": "execute_result"
    },
    {
     "data": {
      "image/png": "[encoded data removed]",
      "text/plain": [
       "<Figure size 640x480 with 1 Axes>"
      ]
     },
     "metadata": {},
     "output_type": "display_data"
    }
   ],
   "source": [
    "features_importance_series.head(30).plot.barh()"
   ]
  }
 ],
 "metadata": {
  "kernelspec": {
   "display_name": "mmposevenv",
   "language": "python",
   "name": "python3"
  },
  "language_info": {
   "codemirror_mode": {
    "name": "ipython",
    "version": 3
   },
   "file_extension": ".py",
   "mimetype": "text/x-python",
   "name": "python",
   "nbconvert_exporter": "python",
   "pygments_lexer": "ipython3",
   "version": "3.9.16"
  },
  "orig_nbformat": 4
 },
 "nbformat": 4,
 "nbformat_minor": 2
}
