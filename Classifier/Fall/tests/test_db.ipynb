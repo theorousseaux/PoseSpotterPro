{
 "cells": [
  {
   "cell_type": "code",
   "execution_count": 1,
   "metadata": {},
   "outputs": [
    {
     "data": {
      "text/plain": [
       "['fall_data']"
      ]
     },
     "execution_count": 1,
     "metadata": {},
     "output_type": "execute_result"
    }
   ],
   "source": [
    "import os\n",
    "import cv2\n",
    "import pandas as pd\n",
    "from prodigy.components.db import connect\n",
    "\n",
    "db = connect()\n",
    "db.datasets"
   ]
  },
  {
   "cell_type": "code",
   "execution_count": 2,
   "metadata": {},
   "outputs": [
    {
     "data": {
      "text/plain": [
       "158"
      ]
     },
     "execution_count": 2,
     "metadata": {},
     "output_type": "execute_result"
    }
   ],
   "source": [
    "fall_data = db.get_dataset(\"fall_data\")\n",
    "len(db.get_dataset(\"fall_data\"))"
   ]
  },
  {
   "cell_type": "code",
   "execution_count": 3,
   "metadata": {},
   "outputs": [],
   "source": [
    "# db.drop_dataset(\"fall_data\")"
   ]
  },
  {
   "cell_type": "code",
   "execution_count": 15,
   "metadata": {},
   "outputs": [
    {
     "data": {
      "text/plain": [
       "158"
      ]
     },
     "execution_count": 15,
     "metadata": {},
     "output_type": "execute_result"
    }
   ],
   "source": [
    "len(fall_data)"
   ]
  },
  {
   "cell_type": "code",
   "execution_count": 4,
   "metadata": {},
   "outputs": [
    {
     "data": {
      "text/plain": [
       "[{'start': 2.1167192429,\n",
       "  'end': 3.6782334385,\n",
       "  'label': 'FALL',\n",
       "  'id': 'dbbd7db1-5cc4-4c83-a735-b11f7010636b',\n",
       "  'color': 'rgba(255,215,0,0.2)'}]"
      ]
     },
     "execution_count": 4,
     "metadata": {},
     "output_type": "execute_result"
    }
   ],
   "source": [
    "fall_data[33]['audio_spans']"
   ]
  },
  {
   "cell_type": "markdown",
   "metadata": {},
   "source": [
    "## Functions"
   ]
  },
  {
   "cell_type": "code",
   "execution_count": 5,
   "metadata": {},
   "outputs": [],
   "source": [
    "def get_video_info_dict(video_path):\n",
    "    cap = cv2.VideoCapture(video_path)\n",
    "    num_frames = int(cap.get(cv2.CAP_PROP_FRAME_COUNT))\n",
    "    fps = cap.get(cv2.CAP_PROP_FPS)\n",
    "    fourcc = int(cap.get(cv2.CAP_PROP_FOURCC))\n",
    "    codec = \"\".join([chr((fourcc >> 8 * i) & 0xFF) for i in range(4)])\n",
    "    width = int(cap.get(cv2.CAP_PROP_FRAME_WIDTH))\n",
    "    height = int(cap.get(cv2.CAP_PROP_FRAME_HEIGHT))\n",
    "    duration = int(cap.get(cv2.CAP_PROP_FRAME_COUNT)) / int(cap.get(cv2.CAP_PROP_FPS))\n",
    "    cap.release()\n",
    "    return {'num_frames': num_frames, 'fps': fps, 'codec': codec, 'width': width, 'height': height, 'duration': duration}"
   ]
  },
  {
   "cell_type": "markdown",
   "metadata": {},
   "source": [
    "## Creation of a Pandas Series for the labels"
   ]
  },
  {
   "cell_type": "code",
   "execution_count": 6,
   "metadata": {},
   "outputs": [
    {
     "name": "stdout",
     "output_type": "stream",
     "text": [
      "Subject.1/Fall backwards\n",
      "Subject.2/Hop\n",
      "Subject.3/Pick up object\n"
     ]
    }
   ],
   "source": [
    "import re\n",
    "\n",
    "def format_action(action_filename):\n",
    "    '''\n",
    "    Transform the name of an action file into the format \"Subject.X/Action\"\n",
    "\n",
    "    Args:\n",
    "        action_filename (str): the name of the action file\n",
    "        \n",
    "    Returns:\n",
    "        str: the path to the action file in the format \"Subject.X/Action\"\n",
    "    '''\n",
    "\n",
    "\n",
    "    # Récupérer le numéro de sujet\n",
    "    subject_number = re.search(r'S(\\d+).json$', action_filename).group(1) # group(1) pour récupérer le premier groupe de la regex, qui correspond au numéro de sujet car c'est ce qui est entre parenthèses\n",
    "    # Supprimer l'extension .json et le \"S\" suivi du numéro à la fin\n",
    "    action = re.sub(r'S\\d+.json$', '', action_filename)\n",
    "    # Cas d'exception pour \"Pickupobject\"\n",
    "    if action == \"Pickupobject\":\n",
    "        formatted_action = \"Pick up object\"\n",
    "    else:\n",
    "        # Séparer les mots en utilisant les majuscules comme séparateur\n",
    "        words = re.findall('[A-Z][^A-Z]*', action)\n",
    "        # Mettre la première en minuscule, sauf pour le premier mot\n",
    "        words = [words[0]] + [word[0].lower() + word[1:] for word in words[1:]]\n",
    "        # Joindre les mots avec un espace\n",
    "        formatted_action = ' '.join(words)\n",
    "    return f'Subject.{subject_number}/{formatted_action}'\n",
    "\n",
    "# Testons le script avec vos exemples\n",
    "print(format_action('FallBackwardsS1.json'))  # 'Subject.1/Fall backwards'\n",
    "print(format_action('HopS2.json'))  # 'Subject.2/Hop'\n",
    "print(format_action('PickupobjectS3.json'))  # 'Subject.3/Pick up object'"
   ]
  },
  {
   "cell_type": "code",
   "execution_count": 12,
   "metadata": {},
   "outputs": [],
   "source": [
    "file_path = '../../outputs/fall/bbox_imposed/predictions/WalkS4.json'\n",
    "dataset_path = '../../Data/Fall/Dataset_CAUCAFall/CAUCAFall/'\n",
    "images_path = format_action(file_path.split(\"/\")[-1])\n",
    "images_list = os.listdir(dataset_path + images_path)\n",
    "labels_file_list = [file for file in images_list if file.endswith(\".txt\")]\n",
    "labels_file_list.sort()\n",
    "labels_file_list.remove(\"classes.txt\")"
   ]
  },
  {
   "cell_type": "code",
   "execution_count": 13,
   "metadata": {},
   "outputs": [
    {
     "data": {
      "text/plain": [
       "0      Normal\n",
       "1      Normal\n",
       "2      Normal\n",
       "3      Normal\n",
       "4      Normal\n",
       "        ...  \n",
       "236    Normal\n",
       "237    Normal\n",
       "238    Normal\n",
       "239    Normal\n",
       "240    Normal\n",
       "Name: label, Length: 241, dtype: object"
      ]
     },
     "execution_count": 13,
     "metadata": {},
     "output_type": "execute_result"
    }
   ],
   "source": [
    "labels_list = []\n",
    "\n",
    "for file in labels_file_list:\n",
    "    with open(dataset_path + images_path + '/' + file) as f:\n",
    "        class_integer = int(f.readline()[0])\n",
    "        if class_integer == 0:\n",
    "            labels_list.append('Normal')\n",
    "        elif class_integer == 1:\n",
    "            labels_list.append('Lying down')\n",
    "\n",
    "labels_ser = pd.Series(labels_list, name='label')\n",
    "\n",
    "labels_ser"
   ]
  },
  {
   "cell_type": "code",
   "execution_count": 14,
   "metadata": {},
   "outputs": [],
   "source": [
    "def get_fall_label(file_path):\n",
    "    for i in range(len(fall_data)):\n",
    "        if fall_data[i]['text'] == file_path.split('/')[-1].split('.')[0]:\n",
    "            return fall_data[i]\n",
    "\n",
    "label_dict = get_fall_label(file_path)\n",
    "label_dict"
   ]
  },
  {
   "cell_type": "code",
   "execution_count": 11,
   "metadata": {},
   "outputs": [
    {
     "name": "stdout",
     "output_type": "stream",
     "text": [
      "no audio spans\n"
     ]
    }
   ],
   "source": [
    "if 'audio_spans' in label_dict and label_dict['audio_spans']:\n",
    "    print(label_dict['audio_spans'])\n",
    "else:\n",
    "    print('no audio spans')"
   ]
  },
  {
   "cell_type": "code",
   "execution_count": null,
   "metadata": {},
   "outputs": [],
   "source": [
    "video_folder_path = '../../Data/Fall/Dataset_CAUCAFall/video/'\n",
    "\n",
    "info_dict = get_video_info_dict(video_folder_path + label_dict['text'] + '.mp4')"
   ]
  },
  {
   "cell_type": "code",
   "execution_count": null,
   "metadata": {},
   "outputs": [
    {
     "name": "stdout",
     "output_type": "stream",
     "text": [
      "54.98422713 90.331230284\n"
     ]
    }
   ],
   "source": [
    "start_frame = label_dict['audio_spans'][0]['start'] * info_dict['fps']\n",
    "end_frame = label_dict['audio_spans'][0]['end'] * info_dict['fps']\n",
    "print(start_frame, end_frame)"
   ]
  }
 ],
 "metadata": {
  "kernelspec": {
   "display_name": "mmposevenv",
   "language": "python",
   "name": "python3"
  },
  "language_info": {
   "codemirror_mode": {
    "name": "ipython",
    "version": 3
   },
   "file_extension": ".py",
   "mimetype": "text/x-python",
   "name": "python",
   "nbconvert_exporter": "python",
   "pygments_lexer": "ipython3",
   "version": "3.9.16"
  },
  "orig_nbformat": 4
 },
 "nbformat": 4,
 "nbformat_minor": 2
}
