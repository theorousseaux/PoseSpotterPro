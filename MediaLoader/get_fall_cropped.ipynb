{
 "cells": [
  {
   "attachments": {},
   "cell_type": "markdown",
   "metadata": {},
   "source": [
    "# Download file from the data set"
   ]
  },
  {
   "cell_type": "code",
   "execution_count": 1,
   "metadata": {},
   "outputs": [],
   "source": [
    "import numpy as np\n",
    "import requests\n",
    "from moviepy.video.fx.crop import crop\n",
    "from moviepy.video.io.VideoFileClip import VideoFileClip"
   ]
  },
  {
   "cell_type": "code",
   "execution_count": 2,
   "metadata": {},
   "outputs": [
    {
     "data": {
      "text/plain": [
       "<Response [200]>"
      ]
     },
     "execution_count": 2,
     "metadata": {},
     "output_type": "execute_result"
    }
   ],
   "source": [
    "url = 'http://imvia.u-bourgogne.fr/database/FallDataset.zip'\n",
    "requests.get(url, stream=True)"
   ]
  },
  {
   "attachments": {},
   "cell_type": "markdown",
   "metadata": {},
   "source": [
    "## Falls"
   ]
  },
  {
   "cell_type": "code",
   "execution_count": 2,
   "metadata": {},
   "outputs": [],
   "source": [
    "video_fall_array = np.arange(1, 31)\n",
    "cam = np.arange(0, 3)\n",
    "path = '../Data/Fall/'"
   ]
  },
  {
   "cell_type": "code",
   "execution_count": 3,
   "metadata": {},
   "outputs": [],
   "source": [
    "\n",
    "for video_fall_number in video_fall_array:\n",
    "    for cam_number in cam:\n",
    "        if video_fall_number < 10:\n",
    "            url = 'http://fenix.ur.edu.pl/~mkepski/ds/data/fall-0{}-cam{}.mp4'.format(video_fall_number, cam_number)\n",
    "        else:\n",
    "            url = 'http://fenix.ur.edu.pl/~mkepski/ds/data/fall-{}-cam{}.mp4'.format(video_fall_number, cam_number)\n",
    "        response = requests.get(url, stream=True)\n",
    "\n",
    "        file_name = 'fall_{}_cam{}.mp4'.format(video_fall_number, cam_number)\n",
    "        if response.status_code == 200:\n",
    "            with open(path + file_name, 'wb') as f:\n",
    "                f.write(response.content)\n"
   ]
  },
  {
   "attachments": {},
   "cell_type": "markdown",
   "metadata": {},
   "source": [
    "## Normal"
   ]
  },
  {
   "cell_type": "code",
   "execution_count": 4,
   "metadata": {},
   "outputs": [],
   "source": [
    "video_normal_array = np.arange(1, 41)\n",
    "\n",
    "for video_normal_number in video_normal_array:\n",
    "    if video_normal_number < 10:\n",
    "        url = 'http://fenix.ur.edu.pl/~mkepski/ds/data/adl-0{}-cam0.mp4'.format(video_normal_number)\n",
    "    else:\n",
    "        url = 'http://fenix.ur.edu.pl/~mkepski/ds/data/adl-{}-cam0.mp4'.format(video_normal_number)\n",
    "    response = requests.get(url, stream=True)\n",
    "\n",
    "    file_name = 'normal_{}.mp4'.format(video_normal_number)\n",
    "    if response.status_code == 200:\n",
    "        with open(path + file_name, 'wb') as f:\n",
    "            f.write(response.content)"
   ]
  },
  {
   "cell_type": "markdown",
   "metadata": {},
   "source": [
    "# Crop videos"
   ]
  },
  {
   "cell_type": "code",
   "execution_count": null,
   "metadata": {},
   "outputs": [],
   "source": [
    "# Load video\n",
    "clip = VideoFileClip(path + \"fall_1_cam0.mp4\")\n",
    "\n",
    "print(\"Width: \", clip.size[0])\n",
    "print(\"Height: \", clip.size[1])\n",
    "\n",
    "# Crop video\n",
    "cropped_clip = crop(clip, x1=clip.size[0]//2, y1=0, x2=clip.size[0], y2=clip.size[1])\n",
    "\n",
    "# Save cropped video\n",
    "cropped_clip.write_videofile(path + \"crop.mp4\", codec='libx264')  # Keep the original encoding\n"
   ]
  },
  {
   "cell_type": "code",
   "execution_count": 7,
   "metadata": {},
   "outputs": [
    {
     "name": "stderr",
     "output_type": "stream",
     "text": [
      "t:   1%|          | 2/180 [06:07<9:04:50, 183.65s/it, now=None]"
     ]
    },
    {
     "name": "stdout",
     "output_type": "stream",
     "text": [
      "Moviepy - Building video ../Data/Fall/cropped/normal_8.mp4.\n",
      "Moviepy - Writing video ../Data/Fall/cropped/normal_8.mp4\n",
      "\n"
     ]
    },
    {
     "name": "stderr",
     "output_type": "stream",
     "text": []
    },
    {
     "name": "stderr",
     "output_type": "stream",
     "text": [
      "t:   1%|          | 2/180 [06:08<9:06:22, 184.17s/it, now=None]"
     ]
    },
    {
     "name": "stdout",
     "output_type": "stream",
     "text": [
      "Moviepy - Done !\n",
      "Moviepy - video ready ../Data/Fall/cropped/normal_8.mp4\n",
      "Moviepy - Building video ../Data/Fall/cropped/fall_28_cam1.mp4.\n",
      "Moviepy - Writing video ../Data/Fall/cropped/fall_28_cam1.mp4\n",
      "\n"
     ]
    },
    {
     "name": "stderr",
     "output_type": "stream",
     "text": [
      "t:   1%|          | 2/180 [06:08<9:07:03, 184.40s/it, now=None]"
     ]
    },
    {
     "name": "stdout",
     "output_type": "stream",
     "text": [
      "Moviepy - Done !\n",
      "Moviepy - video ready ../Data/Fall/cropped/fall_28_cam1.mp4\n",
      "Moviepy - Building video ../Data/Fall/cropped/fall_14_cam1.mp4.\n",
      "Moviepy - Writing video ../Data/Fall/cropped/fall_14_cam1.mp4\n",
      "\n"
     ]
    },
    {
     "name": "stderr",
     "output_type": "stream",
     "text": [
      "t:   1%|          | 2/180 [06:09<9:07:51, 184.67s/it, now=None]"
     ]
    },
    {
     "name": "stdout",
     "output_type": "stream",
     "text": [
      "Moviepy - Done !\n",
      "Moviepy - video ready ../Data/Fall/cropped/fall_14_cam1.mp4\n",
      "Moviepy - Building video ../Data/Fall/cropped/fall_4_cam0.mp4.\n",
      "Moviepy - Writing video ../Data/Fall/cropped/fall_4_cam0.mp4\n",
      "\n"
     ]
    },
    {
     "name": "stderr",
     "output_type": "stream",
     "text": [
      "t:   1%|          | 2/180 [06:10<9:08:54, 185.03s/it, now=None]"
     ]
    },
    {
     "name": "stdout",
     "output_type": "stream",
     "text": [
      "Moviepy - Done !\n",
      "Moviepy - video ready ../Data/Fall/cropped/fall_4_cam0.mp4\n",
      "Moviepy - Building video ../Data/Fall/cropped/fall_26_cam0.mp4.\n",
      "Moviepy - Writing video ../Data/Fall/cropped/fall_26_cam0.mp4\n",
      "\n"
     ]
    },
    {
     "name": "stderr",
     "output_type": "stream",
     "text": [
      "t:   1%|          | 2/180 [06:10<9:09:39, 185.28s/it, now=None]"
     ]
    },
    {
     "name": "stdout",
     "output_type": "stream",
     "text": [
      "Moviepy - Done !\n",
      "Moviepy - video ready ../Data/Fall/cropped/fall_26_cam0.mp4\n",
      "Moviepy - Building video ../Data/Fall/cropped/normal_12.mp4.\n",
      "Moviepy - Writing video ../Data/Fall/cropped/normal_12.mp4\n",
      "\n"
     ]
    },
    {
     "name": "stderr",
     "output_type": "stream",
     "text": [
      "t:   1%|          | 2/180 [06:11<9:11:38, 185.95s/it, now=None]"
     ]
    },
    {
     "name": "stdout",
     "output_type": "stream",
     "text": [
      "Moviepy - Done !\n",
      "Moviepy - video ready ../Data/Fall/cropped/normal_12.mp4\n",
      "Moviepy - Building video ../Data/Fall/cropped/normal_1.mp4.\n",
      "Moviepy - Writing video ../Data/Fall/cropped/normal_1.mp4\n",
      "\n"
     ]
    },
    {
     "name": "stderr",
     "output_type": "stream",
     "text": [
      "t:   1%|          | 2/180 [06:12<9:12:41, 186.30s/it, now=None]"
     ]
    },
    {
     "name": "stdout",
     "output_type": "stream",
     "text": [
      "Moviepy - Done !\n",
      "Moviepy - video ready ../Data/Fall/cropped/normal_1.mp4\n",
      "Moviepy - Building video ../Data/Fall/cropped/normal_37.mp4.\n",
      "Moviepy - Writing video ../Data/Fall/cropped/normal_37.mp4\n",
      "\n"
     ]
    },
    {
     "name": "stderr",
     "output_type": "stream",
     "text": [
      "t:   1%|          | 2/180 [06:13<9:14:43, 186.99s/it, now=None]"
     ]
    },
    {
     "name": "stdout",
     "output_type": "stream",
     "text": [
      "Moviepy - Done !\n",
      "Moviepy - video ready ../Data/Fall/cropped/normal_37.mp4\n",
      "Moviepy - Building video ../Data/Fall/cropped/normal_15.mp4.\n",
      "Moviepy - Writing video ../Data/Fall/cropped/normal_15.mp4\n",
      "\n"
     ]
    },
    {
     "name": "stderr",
     "output_type": "stream",
     "text": [
      "t:   1%|          | 2/180 [06:15<9:16:45, 187.67s/it, now=None]"
     ]
    },
    {
     "name": "stdout",
     "output_type": "stream",
     "text": [
      "Moviepy - Done !\n",
      "Moviepy - video ready ../Data/Fall/cropped/normal_15.mp4\n",
      "Moviepy - Building video ../Data/Fall/cropped/fall_23_cam0.mp4.\n",
      "Moviepy - Writing video ../Data/Fall/cropped/fall_23_cam0.mp4\n",
      "\n"
     ]
    },
    {
     "name": "stderr",
     "output_type": "stream",
     "text": [
      "t:   1%|          | 2/180 [06:15<9:17:29, 187.92s/it, now=None]"
     ]
    },
    {
     "name": "stdout",
     "output_type": "stream",
     "text": [
      "Moviepy - Done !\n",
      "Moviepy - video ready ../Data/Fall/cropped/fall_23_cam0.mp4\n",
      "Moviepy - Building video ../Data/Fall/cropped/fall_9_cam1.mp4.\n",
      "Moviepy - Writing video ../Data/Fall/cropped/fall_9_cam1.mp4\n",
      "\n"
     ]
    },
    {
     "name": "stderr",
     "output_type": "stream",
     "text": [
      "t:   1%|          | 2/180 [06:16<9:18:49, 188.37s/it, now=None]"
     ]
    },
    {
     "name": "stdout",
     "output_type": "stream",
     "text": [
      "Moviepy - Done !\n",
      "Moviepy - video ready ../Data/Fall/cropped/fall_9_cam1.mp4\n",
      "Moviepy - Building video ../Data/Fall/cropped/fall_12_cam0.mp4.\n",
      "Moviepy - Writing video ../Data/Fall/cropped/fall_12_cam0.mp4\n",
      "\n"
     ]
    },
    {
     "name": "stderr",
     "output_type": "stream",
     "text": [
      "t:   1%|          | 2/180 [06:17<9:19:53, 188.73s/it, now=None]"
     ]
    },
    {
     "name": "stdout",
     "output_type": "stream",
     "text": [
      "Moviepy - Done !\n",
      "Moviepy - video ready ../Data/Fall/cropped/fall_12_cam0.mp4\n",
      "Moviepy - Building video ../Data/Fall/cropped/normal_2.mp4.\n",
      "Moviepy - Writing video ../Data/Fall/cropped/normal_2.mp4\n",
      "\n"
     ]
    },
    {
     "name": "stderr",
     "output_type": "stream",
     "text": [
      "t:   1%|          | 2/180 [06:18<9:21:21, 189.22s/it, now=None]"
     ]
    },
    {
     "name": "stdout",
     "output_type": "stream",
     "text": [
      "Moviepy - Done !\n",
      "Moviepy - video ready ../Data/Fall/cropped/normal_2.mp4\n",
      "Moviepy - Building video ../Data/Fall/cropped/fall_20_cam1.mp4.\n",
      "Moviepy - Writing video ../Data/Fall/cropped/fall_20_cam1.mp4\n",
      "\n"
     ]
    },
    {
     "name": "stderr",
     "output_type": "stream",
     "text": [
      "t:   1%|          | 2/180 [06:19<9:22:27, 189.59s/it, now=None]"
     ]
    },
    {
     "name": "stdout",
     "output_type": "stream",
     "text": [
      "Moviepy - Done !\n",
      "Moviepy - video ready ../Data/Fall/cropped/fall_20_cam1.mp4\n",
      "Moviepy - Building video ../Data/Fall/cropped/fall_1_cam0.mp4.\n",
      "Moviepy - Writing video ../Data/Fall/cropped/fall_1_cam0.mp4\n",
      "\n"
     ]
    },
    {
     "name": "stderr",
     "output_type": "stream",
     "text": [
      "t:   1%|          | 2/180 [06:20<9:23:49, 190.05s/it, now=None]"
     ]
    },
    {
     "name": "stdout",
     "output_type": "stream",
     "text": [
      "Moviepy - Done !\n",
      "Moviepy - video ready ../Data/Fall/cropped/fall_1_cam0.mp4\n",
      "Moviepy - Building video ../Data/Fall/cropped/normal_38.mp4.\n",
      "Moviepy - Writing video ../Data/Fall/cropped/normal_38.mp4\n",
      "\n"
     ]
    },
    {
     "name": "stderr",
     "output_type": "stream",
     "text": [
      "t:   1%|          | 2/180 [06:21<9:25:16, 190.54s/it, now=None]"
     ]
    },
    {
     "name": "stdout",
     "output_type": "stream",
     "text": [
      "Moviepy - Done !\n",
      "Moviepy - video ready ../Data/Fall/cropped/normal_38.mp4\n"
     ]
    },
    {
     "name": "stderr",
     "output_type": "stream",
     "text": [
      "t:   1%|          | 2/180 [06:21<9:25:35, 190.65s/it, now=None]"
     ]
    },
    {
     "name": "stdout",
     "output_type": "stream",
     "text": [
      "Moviepy - Building video ../Data/Fall/cropped/fall_5_cam1.mp4.\n",
      "Moviepy - Writing video ../Data/Fall/cropped/fall_5_cam1.mp4\n",
      "\n"
     ]
    },
    {
     "name": "stderr",
     "output_type": "stream",
     "text": [
      "t:   1%|          | 2/180 [06:22<9:26:50, 191.07s/it, now=None]"
     ]
    },
    {
     "name": "stdout",
     "output_type": "stream",
     "text": [
      "Moviepy - Done !\n",
      "Moviepy - video ready ../Data/Fall/cropped/fall_5_cam1.mp4\n",
      "Moviepy - Building video ../Data/Fall/cropped/fall_18_cam0.mp4.\n",
      "Moviepy - Writing video ../Data/Fall/cropped/fall_18_cam0.mp4\n",
      "\n"
     ]
    },
    {
     "name": "stderr",
     "output_type": "stream",
     "text": [
      "t:   1%|          | 2/180 [06:22<9:27:41, 191.36s/it, now=None]"
     ]
    },
    {
     "name": "stdout",
     "output_type": "stream",
     "text": [
      "Moviepy - Done !\n",
      "Moviepy - video ready ../Data/Fall/cropped/fall_18_cam0.mp4\n",
      "Moviepy - Building video ../Data/Fall/cropped/fall_19_cam0.mp4.\n",
      "Moviepy - Writing video ../Data/Fall/cropped/fall_19_cam0.mp4\n",
      "\n"
     ]
    },
    {
     "name": "stderr",
     "output_type": "stream",
     "text": [
      "t:   1%|          | 2/180 [06:23<9:28:32, 191.65s/it, now=None]"
     ]
    },
    {
     "name": "stdout",
     "output_type": "stream",
     "text": [
      "Moviepy - Done !\n",
      "Moviepy - video ready ../Data/Fall/cropped/fall_19_cam0.mp4\n",
      "Moviepy - Building video ../Data/Fall/cropped/fall_29_cam1.mp4.\n",
      "Moviepy - Writing video ../Data/Fall/cropped/fall_29_cam1.mp4\n",
      "\n"
     ]
    },
    {
     "name": "stderr",
     "output_type": "stream",
     "text": [
      "t:   1%|          | 2/180 [06:24<9:29:36, 192.00s/it, now=None]"
     ]
    },
    {
     "name": "stdout",
     "output_type": "stream",
     "text": [
      "Moviepy - Done !\n",
      "Moviepy - video ready ../Data/Fall/cropped/fall_29_cam1.mp4\n",
      "Moviepy - Building video ../Data/Fall/cropped/normal_28.mp4.\n",
      "Moviepy - Writing video ../Data/Fall/cropped/normal_28.mp4\n",
      "\n"
     ]
    },
    {
     "name": "stderr",
     "output_type": "stream",
     "text": [
      "t:   1%|          | 2/180 [06:24<9:30:38, 192.35s/it, now=None]"
     ]
    },
    {
     "name": "stdout",
     "output_type": "stream",
     "text": [
      "Moviepy - Done !\n",
      "Moviepy - video ready ../Data/Fall/cropped/normal_28.mp4\n",
      "Moviepy - Building video ../Data/Fall/cropped/fall_19_cam1.mp4.\n",
      "Moviepy - Writing video ../Data/Fall/cropped/fall_19_cam1.mp4\n",
      "\n"
     ]
    },
    {
     "name": "stderr",
     "output_type": "stream",
     "text": [
      "t:   1%|          | 2/180 [06:25<9:31:29, 192.64s/it, now=None]"
     ]
    },
    {
     "name": "stdout",
     "output_type": "stream",
     "text": [
      "Moviepy - Done !\n",
      "Moviepy - video ready ../Data/Fall/cropped/fall_19_cam1.mp4\n",
      "Moviepy - Building video ../Data/Fall/cropped/fall_3_cam1.mp4.\n",
      "Moviepy - Writing video ../Data/Fall/cropped/fall_3_cam1.mp4\n",
      "\n"
     ]
    },
    {
     "name": "stderr",
     "output_type": "stream",
     "text": [
      "t:   1%|          | 2/180 [06:26<9:33:18, 193.25s/it, now=None]"
     ]
    },
    {
     "name": "stdout",
     "output_type": "stream",
     "text": [
      "Moviepy - Done !\n",
      "Moviepy - video ready ../Data/Fall/cropped/fall_3_cam1.mp4\n",
      "Moviepy - Building video ../Data/Fall/cropped/normal_5.mp4.\n",
      "Moviepy - Writing video ../Data/Fall/cropped/normal_5.mp4\n",
      "\n"
     ]
    },
    {
     "name": "stderr",
     "output_type": "stream",
     "text": [
      "t:   1%|          | 2/180 [06:27<9:34:31, 193.66s/it, now=None]"
     ]
    },
    {
     "name": "stdout",
     "output_type": "stream",
     "text": [
      "Moviepy - Done !\n",
      "Moviepy - video ready ../Data/Fall/cropped/normal_5.mp4\n",
      "Moviepy - Building video ../Data/Fall/cropped/normal_22.mp4.\n",
      "Moviepy - Writing video ../Data/Fall/cropped/normal_22.mp4\n",
      "\n"
     ]
    },
    {
     "name": "stderr",
     "output_type": "stream",
     "text": [
      "t:   1%|          | 2/180 [06:28<9:36:32, 194.34s/it, now=None]"
     ]
    },
    {
     "name": "stdout",
     "output_type": "stream",
     "text": [
      "Moviepy - Done !\n",
      "Moviepy - video ready ../Data/Fall/cropped/normal_22.mp4\n",
      "Moviepy - Building video ../Data/Fall/cropped/fall_18_cam1.mp4.\n",
      "Moviepy - Writing video ../Data/Fall/cropped/fall_18_cam1.mp4\n",
      "\n"
     ]
    },
    {
     "name": "stderr",
     "output_type": "stream",
     "text": [
      "t:   1%|          | 2/180 [06:29<9:37:14, 194.58s/it, now=None]"
     ]
    },
    {
     "name": "stdout",
     "output_type": "stream",
     "text": [
      "Moviepy - Done !\n",
      "Moviepy - video ready ../Data/Fall/cropped/fall_18_cam1.mp4\n",
      "Moviepy - Building video ../Data/Fall/cropped/fall_13_cam1.mp4.\n",
      "Moviepy - Writing video ../Data/Fall/cropped/fall_13_cam1.mp4\n",
      "\n"
     ]
    },
    {
     "name": "stderr",
     "output_type": "stream",
     "text": [
      "t:   1%|          | 2/180 [06:29<9:38:08, 194.88s/it, now=None]"
     ]
    },
    {
     "name": "stdout",
     "output_type": "stream",
     "text": [
      "Moviepy - Done !\n",
      "Moviepy - video ready ../Data/Fall/cropped/fall_13_cam1.mp4\n",
      "Moviepy - Building video ../Data/Fall/cropped/fall_16_cam1.mp4.\n",
      "Moviepy - Writing video ../Data/Fall/cropped/fall_16_cam1.mp4\n",
      "\n"
     ]
    },
    {
     "name": "stderr",
     "output_type": "stream",
     "text": [
      "t:   1%|          | 2/180 [06:30<9:38:55, 195.14s/it, now=None]"
     ]
    },
    {
     "name": "stdout",
     "output_type": "stream",
     "text": [
      "Moviepy - Done !\n",
      "Moviepy - video ready ../Data/Fall/cropped/fall_16_cam1.mp4\n",
      "Moviepy - Building video ../Data/Fall/cropped/normal_7.mp4.\n",
      "Moviepy - Writing video ../Data/Fall/cropped/normal_7.mp4\n",
      "\n"
     ]
    },
    {
     "name": "stderr",
     "output_type": "stream",
     "text": [
      "t:   1%|          | 2/180 [06:31<9:40:20, 195.62s/it, now=None]"
     ]
    },
    {
     "name": "stdout",
     "output_type": "stream",
     "text": [
      "Moviepy - Done !\n",
      "Moviepy - video ready ../Data/Fall/cropped/normal_7.mp4\n",
      "Moviepy - Building video ../Data/Fall/cropped/fall_17_cam0.mp4.\n",
      "Moviepy - Writing video ../Data/Fall/cropped/fall_17_cam0.mp4\n",
      "\n"
     ]
    },
    {
     "name": "stderr",
     "output_type": "stream",
     "text": [
      "t:   1%|          | 2/180 [06:31<9:41:15, 195.93s/it, now=None]"
     ]
    },
    {
     "name": "stdout",
     "output_type": "stream",
     "text": [
      "Moviepy - Done !\n",
      "Moviepy - video ready ../Data/Fall/cropped/fall_17_cam0.mp4\n",
      "Moviepy - Building video ../Data/Fall/cropped/normal_3.mp4.\n",
      "Moviepy - Writing video ../Data/Fall/cropped/normal_3.mp4\n",
      "\n"
     ]
    },
    {
     "name": "stderr",
     "output_type": "stream",
     "text": [
      "t:   1%|          | 2/180 [06:32<9:42:41, 196.41s/it, now=None]"
     ]
    },
    {
     "name": "stdout",
     "output_type": "stream",
     "text": [
      "Moviepy - Done !\n",
      "Moviepy - video ready ../Data/Fall/cropped/normal_3.mp4\n",
      "Moviepy - Building video ../Data/Fall/cropped/normal_18.mp4.\n",
      "Moviepy - Writing video ../Data/Fall/cropped/normal_18.mp4\n",
      "\n"
     ]
    },
    {
     "name": "stderr",
     "output_type": "stream",
     "text": [
      "t:   1%|          | 2/180 [06:33<9:44:25, 197.00s/it, now=None]"
     ]
    },
    {
     "name": "stdout",
     "output_type": "stream",
     "text": [
      "Moviepy - Done !\n",
      "Moviepy - video ready ../Data/Fall/cropped/normal_18.mp4\n",
      "Moviepy - Building video ../Data/Fall/cropped/fall_10_cam0.mp4.\n",
      "Moviepy - Writing video ../Data/Fall/cropped/fall_10_cam0.mp4\n",
      "\n"
     ]
    },
    {
     "name": "stderr",
     "output_type": "stream",
     "text": [
      "t:   1%|          | 2/180 [06:34<9:45:27, 197.34s/it, now=None]"
     ]
    },
    {
     "name": "stdout",
     "output_type": "stream",
     "text": [
      "Moviepy - Done !\n",
      "Moviepy - video ready ../Data/Fall/cropped/fall_10_cam0.mp4\n",
      "Moviepy - Building video ../Data/Fall/cropped/normal_40.mp4.\n",
      "Moviepy - Writing video ../Data/Fall/cropped/normal_40.mp4\n",
      "\n"
     ]
    },
    {
     "name": "stderr",
     "output_type": "stream",
     "text": [
      "t:   1%|          | 2/180 [06:36<9:47:45, 198.12s/it, now=None]"
     ]
    },
    {
     "name": "stdout",
     "output_type": "stream",
     "text": [
      "Moviepy - Done !\n",
      "Moviepy - video ready ../Data/Fall/cropped/normal_40.mp4\n",
      "Moviepy - Building video ../Data/Fall/cropped/normal_9.mp4.\n",
      "Moviepy - Writing video ../Data/Fall/cropped/normal_9.mp4\n",
      "\n"
     ]
    },
    {
     "name": "stderr",
     "output_type": "stream",
     "text": [
      "t:   1%|          | 2/180 [06:37<9:48:55, 198.51s/it, now=None]"
     ]
    },
    {
     "name": "stdout",
     "output_type": "stream",
     "text": [
      "Moviepy - Done !\n",
      "Moviepy - video ready ../Data/Fall/cropped/normal_9.mp4\n",
      "Moviepy - Building video ../Data/Fall/cropped/fall_4_cam1.mp4.\n",
      "Moviepy - Writing video ../Data/Fall/cropped/fall_4_cam1.mp4\n",
      "\n"
     ]
    },
    {
     "name": "stderr",
     "output_type": "stream",
     "text": [
      "t:   1%|          | 2/180 [06:37<9:49:53, 198.84s/it, now=None]"
     ]
    },
    {
     "name": "stdout",
     "output_type": "stream",
     "text": [
      "Moviepy - Done !\n",
      "Moviepy - video ready ../Data/Fall/cropped/fall_4_cam1.mp4\n",
      "Moviepy - Building video ../Data/Fall/cropped/normal_39.mp4.\n",
      "Moviepy - Writing video ../Data/Fall/cropped/normal_39.mp4\n",
      "\n"
     ]
    },
    {
     "name": "stderr",
     "output_type": "stream",
     "text": [
      "t:   1%|          | 2/180 [06:38<9:51:27, 199.37s/it, now=None]"
     ]
    },
    {
     "name": "stdout",
     "output_type": "stream",
     "text": [
      "Moviepy - Done !\n",
      "Moviepy - video ready ../Data/Fall/cropped/normal_39.mp4\n",
      "Moviepy - Building video ../Data/Fall/cropped/fall_10_cam1.mp4.\n",
      "Moviepy - Writing video ../Data/Fall/cropped/fall_10_cam1.mp4\n",
      "\n"
     ]
    },
    {
     "name": "stderr",
     "output_type": "stream",
     "text": [
      "t:   1%|          | 2/180 [06:39<9:52:47, 199.82s/it, now=None]"
     ]
    },
    {
     "name": "stdout",
     "output_type": "stream",
     "text": [
      "Moviepy - Done !\n",
      "Moviepy - video ready ../Data/Fall/cropped/fall_10_cam1.mp4\n",
      "Moviepy - Building video ../Data/Fall/cropped/fall_14_cam0.mp4.\n",
      "Moviepy - Writing video ../Data/Fall/cropped/fall_14_cam0.mp4\n",
      "\n"
     ]
    },
    {
     "name": "stderr",
     "output_type": "stream",
     "text": [
      "t:   1%|          | 2/180 [06:40<9:53:38, 200.10s/it, now=None]"
     ]
    },
    {
     "name": "stdout",
     "output_type": "stream",
     "text": [
      "Moviepy - Done !\n",
      "Moviepy - video ready ../Data/Fall/cropped/fall_14_cam0.mp4\n",
      "Moviepy - Building video ../Data/Fall/cropped/normal_33.mp4.\n",
      "Moviepy - Writing video ../Data/Fall/cropped/normal_33.mp4\n",
      "\n"
     ]
    },
    {
     "name": "stderr",
     "output_type": "stream",
     "text": [
      "t:   1%|          | 2/180 [06:41<9:54:56, 200.54s/it, now=None]"
     ]
    },
    {
     "name": "stdout",
     "output_type": "stream",
     "text": [
      "Moviepy - Done !\n",
      "Moviepy - video ready ../Data/Fall/cropped/normal_33.mp4\n",
      "Moviepy - Building video ../Data/Fall/cropped/normal_6.mp4.\n",
      "Moviepy - Writing video ../Data/Fall/cropped/normal_6.mp4\n",
      "\n"
     ]
    },
    {
     "name": "stderr",
     "output_type": "stream",
     "text": [
      "t:   1%|          | 2/180 [06:42<9:56:51, 201.19s/it, now=None]"
     ]
    },
    {
     "name": "stdout",
     "output_type": "stream",
     "text": [
      "Moviepy - Done !\n",
      "Moviepy - video ready ../Data/Fall/cropped/normal_6.mp4\n",
      "Moviepy - Building video ../Data/Fall/cropped/normal_34.mp4.\n",
      "Moviepy - Writing video ../Data/Fall/cropped/normal_34.mp4\n",
      "\n"
     ]
    },
    {
     "name": "stderr",
     "output_type": "stream",
     "text": [
      "t:   1%|          | 2/180 [06:43<9:58:21, 201.70s/it, now=None]"
     ]
    },
    {
     "name": "stdout",
     "output_type": "stream",
     "text": [
      "Moviepy - Done !\n",
      "Moviepy - video ready ../Data/Fall/cropped/normal_34.mp4\n",
      "Moviepy - Building video ../Data/Fall/cropped/fall_2_cam0.mp4.\n",
      "Moviepy - Writing video ../Data/Fall/cropped/fall_2_cam0.mp4\n",
      "\n"
     ]
    },
    {
     "name": "stderr",
     "output_type": "stream",
     "text": [
      "t:   1%|          | 2/180 [06:44<9:59:18, 202.01s/it, now=None]"
     ]
    },
    {
     "name": "stdout",
     "output_type": "stream",
     "text": [
      "Moviepy - Done !\n",
      "Moviepy - video ready ../Data/Fall/cropped/fall_2_cam0.mp4\n",
      "Moviepy - Building video ../Data/Fall/cropped/normal_36.mp4.\n",
      "Moviepy - Writing video ../Data/Fall/cropped/normal_36.mp4\n",
      "\n"
     ]
    },
    {
     "name": "stderr",
     "output_type": "stream",
     "text": [
      "t:   1%|          | 2/180 [06:45<10:01:29, 202.75s/it, now=None]"
     ]
    },
    {
     "name": "stdout",
     "output_type": "stream",
     "text": [
      "Moviepy - Done !\n",
      "Moviepy - video ready ../Data/Fall/cropped/normal_36.mp4\n",
      "Moviepy - Building video ../Data/Fall/cropped/normal_19.mp4.\n",
      "Moviepy - Writing video ../Data/Fall/cropped/normal_19.mp4\n",
      "\n"
     ]
    },
    {
     "name": "stderr",
     "output_type": "stream",
     "text": [
      "t:   1%|          | 2/180 [06:46<10:03:19, 203.37s/it, now=None]"
     ]
    },
    {
     "name": "stdout",
     "output_type": "stream",
     "text": [
      "Moviepy - Done !\n",
      "Moviepy - video ready ../Data/Fall/cropped/normal_19.mp4\n",
      "Moviepy - Building video ../Data/Fall/cropped/normal_26.mp4.\n",
      "Moviepy - Writing video ../Data/Fall/cropped/normal_26.mp4\n",
      "\n"
     ]
    },
    {
     "name": "stderr",
     "output_type": "stream",
     "text": [
      "t:   1%|          | 2/180 [06:47<10:04:04, 203.62s/it, now=None]"
     ]
    },
    {
     "name": "stdout",
     "output_type": "stream",
     "text": [
      "Moviepy - Done !\n",
      "Moviepy - video ready ../Data/Fall/cropped/normal_26.mp4\n",
      "Moviepy - Building video ../Data/Fall/cropped/fall_26_cam1.mp4.\n",
      "Moviepy - Writing video ../Data/Fall/cropped/fall_26_cam1.mp4\n",
      "\n"
     ]
    },
    {
     "name": "stderr",
     "output_type": "stream",
     "text": [
      "t:   1%|          | 2/180 [06:47<10:04:43, 203.84s/it, now=None]"
     ]
    },
    {
     "name": "stdout",
     "output_type": "stream",
     "text": [
      "Moviepy - Done !\n",
      "Moviepy - video ready ../Data/Fall/cropped/fall_26_cam1.mp4\n",
      "Moviepy - Building video ../Data/Fall/cropped/fall_23_cam1.mp4.\n",
      "Moviepy - Writing video ../Data/Fall/cropped/fall_23_cam1.mp4\n",
      "\n"
     ]
    },
    {
     "name": "stderr",
     "output_type": "stream",
     "text": [
      "t:   1%|          | 2/180 [06:48<10:05:34, 204.13s/it, now=None]"
     ]
    },
    {
     "name": "stdout",
     "output_type": "stream",
     "text": [
      "Moviepy - Done !\n",
      "Moviepy - video ready ../Data/Fall/cropped/fall_23_cam1.mp4\n",
      "Moviepy - Building video ../Data/Fall/cropped/fall_16_cam0.mp4.\n",
      "Moviepy - Writing video ../Data/Fall/cropped/fall_16_cam0.mp4\n",
      "\n"
     ]
    },
    {
     "name": "stderr",
     "output_type": "stream",
     "text": [
      "t:   1%|          | 2/180 [06:48<10:06:26, 204.42s/it, now=None]"
     ]
    },
    {
     "name": "stdout",
     "output_type": "stream",
     "text": [
      "Moviepy - Done !\n",
      "Moviepy - video ready ../Data/Fall/cropped/fall_16_cam0.mp4\n",
      "Moviepy - Building video ../Data/Fall/cropped/fall_27_cam0.mp4.\n",
      "Moviepy - Writing video ../Data/Fall/cropped/fall_27_cam0.mp4\n",
      "\n"
     ]
    },
    {
     "name": "stderr",
     "output_type": "stream",
     "text": [
      "t:   1%|          | 2/180 [06:49<10:07:20, 204.72s/it, now=None]"
     ]
    },
    {
     "name": "stdout",
     "output_type": "stream",
     "text": [
      "Moviepy - Done !\n",
      "Moviepy - video ready ../Data/Fall/cropped/fall_27_cam0.mp4\n",
      "Moviepy - Building video ../Data/Fall/cropped/fall_3_cam0.mp4.\n",
      "Moviepy - Writing video ../Data/Fall/cropped/fall_3_cam0.mp4\n",
      "\n"
     ]
    },
    {
     "name": "stderr",
     "output_type": "stream",
     "text": [
      "t:   1%|          | 2/180 [06:50<10:09:10, 205.34s/it, now=None]"
     ]
    },
    {
     "name": "stdout",
     "output_type": "stream",
     "text": [
      "Moviepy - Done !\n",
      "Moviepy - video ready ../Data/Fall/cropped/fall_3_cam0.mp4\n",
      "Moviepy - Building video ../Data/Fall/cropped/fall_22_cam0.mp4.\n",
      "Moviepy - Writing video ../Data/Fall/cropped/fall_22_cam0.mp4\n",
      "\n"
     ]
    },
    {
     "name": "stderr",
     "output_type": "stream",
     "text": [
      "t:   1%|          | 2/180 [06:51<10:09:54, 205.59s/it, now=None]"
     ]
    },
    {
     "name": "stdout",
     "output_type": "stream",
     "text": [
      "Moviepy - Done !\n",
      "Moviepy - video ready ../Data/Fall/cropped/fall_22_cam0.mp4\n",
      "Moviepy - Building video ../Data/Fall/cropped/normal_16.mp4.\n",
      "Moviepy - Writing video ../Data/Fall/cropped/normal_16.mp4\n",
      "\n"
     ]
    },
    {
     "name": "stderr",
     "output_type": "stream",
     "text": [
      "t:   1%|          | 2/180 [06:52<10:11:34, 206.15s/it, now=None]"
     ]
    },
    {
     "name": "stdout",
     "output_type": "stream",
     "text": [
      "Moviepy - Done !\n",
      "Moviepy - video ready ../Data/Fall/cropped/normal_16.mp4\n",
      "Moviepy - Building video ../Data/Fall/cropped/fall_25_cam1.mp4.\n",
      "Moviepy - Writing video ../Data/Fall/cropped/fall_25_cam1.mp4\n",
      "\n"
     ]
    },
    {
     "name": "stderr",
     "output_type": "stream",
     "text": [
      "t:   1%|          | 2/180 [06:52<10:12:34, 206.49s/it, now=None]"
     ]
    },
    {
     "name": "stdout",
     "output_type": "stream",
     "text": [
      "Moviepy - Done !\n",
      "Moviepy - video ready ../Data/Fall/cropped/fall_25_cam1.mp4\n",
      "Moviepy - Building video ../Data/Fall/cropped/fall_25_cam0.mp4.\n",
      "Moviepy - Writing video ../Data/Fall/cropped/fall_25_cam0.mp4\n",
      "\n"
     ]
    },
    {
     "name": "stderr",
     "output_type": "stream",
     "text": [
      "t:   1%|          | 2/180 [06:53<10:13:29, 206.79s/it, now=None]"
     ]
    },
    {
     "name": "stdout",
     "output_type": "stream",
     "text": [
      "Moviepy - Done !\n",
      "Moviepy - video ready ../Data/Fall/cropped/fall_25_cam0.mp4\n",
      "Moviepy - Building video ../Data/Fall/cropped/fall_7_cam1.mp4.\n",
      "Moviepy - Writing video ../Data/Fall/cropped/fall_7_cam1.mp4\n",
      "\n"
     ]
    },
    {
     "name": "stderr",
     "output_type": "stream",
     "text": [
      "t:   1%|          | 2/180 [06:54<10:14:38, 207.18s/it, now=None]"
     ]
    },
    {
     "name": "stdout",
     "output_type": "stream",
     "text": [
      "Moviepy - Done !\n",
      "Moviepy - video ready ../Data/Fall/cropped/fall_7_cam1.mp4\n",
      "Moviepy - Building video ../Data/Fall/cropped/fall_20_cam0.mp4.\n",
      "Moviepy - Writing video ../Data/Fall/cropped/fall_20_cam0.mp4\n",
      "\n"
     ]
    },
    {
     "name": "stderr",
     "output_type": "stream",
     "text": [
      "t:   1%|          | 2/180 [06:54<10:15:26, 207.45s/it, now=None]"
     ]
    },
    {
     "name": "stdout",
     "output_type": "stream",
     "text": [
      "Moviepy - Done !\n",
      "Moviepy - video ready ../Data/Fall/cropped/fall_20_cam0.mp4\n"
     ]
    },
    {
     "name": "stderr",
     "output_type": "stream",
     "text": [
      "t:   1%|          | 2/180 [06:55<10:15:44, 207.56s/it, now=None]"
     ]
    },
    {
     "name": "stdout",
     "output_type": "stream",
     "text": [
      "Moviepy - Building video ../Data/Fall/cropped/normal_20.mp4.\n",
      "Moviepy - Writing video ../Data/Fall/cropped/normal_20.mp4\n",
      "\n"
     ]
    },
    {
     "name": "stderr",
     "output_type": "stream",
     "text": [
      "t:   1%|          | 2/180 [06:56<10:17:31, 208.16s/it, now=None]"
     ]
    },
    {
     "name": "stdout",
     "output_type": "stream",
     "text": [
      "Moviepy - Done !\n",
      "Moviepy - video ready ../Data/Fall/cropped/normal_20.mp4\n",
      "Moviepy - Building video ../Data/Fall/cropped/normal_30.mp4.\n",
      "Moviepy - Writing video ../Data/Fall/cropped/normal_30.mp4\n",
      "\n"
     ]
    },
    {
     "name": "stderr",
     "output_type": "stream",
     "text": [
      "t:   1%|          | 2/180 [06:57<10:19:59, 208.98s/it, now=None]"
     ]
    },
    {
     "name": "stdout",
     "output_type": "stream",
     "text": [
      "Moviepy - Done !\n",
      "Moviepy - video ready ../Data/Fall/cropped/normal_30.mp4\n",
      "Moviepy - Building video ../Data/Fall/cropped/fall_27_cam1.mp4.\n",
      "Moviepy - Writing video ../Data/Fall/cropped/fall_27_cam1.mp4\n",
      "\n"
     ]
    },
    {
     "name": "stderr",
     "output_type": "stream",
     "text": [
      "t:   1%|          | 2/180 [06:58<10:20:46, 209.25s/it, now=None]"
     ]
    },
    {
     "name": "stdout",
     "output_type": "stream",
     "text": [
      "Moviepy - Done !\n",
      "Moviepy - video ready ../Data/Fall/cropped/fall_27_cam1.mp4\n",
      "Moviepy - Building video ../Data/Fall/cropped/fall_6_cam0.mp4.\n",
      "Moviepy - Writing video ../Data/Fall/cropped/fall_6_cam0.mp4\n",
      "\n"
     ]
    },
    {
     "name": "stderr",
     "output_type": "stream",
     "text": [
      "t:   1%|          | 2/180 [06:59<10:21:43, 209.57s/it, now=None]"
     ]
    },
    {
     "name": "stdout",
     "output_type": "stream",
     "text": [
      "Moviepy - Done !\n",
      "Moviepy - video ready ../Data/Fall/cropped/fall_6_cam0.mp4\n",
      "Moviepy - Building video ../Data/Fall/cropped/normal_32.mp4.\n",
      "Moviepy - Writing video ../Data/Fall/cropped/normal_32.mp4\n",
      "\n"
     ]
    },
    {
     "name": "stderr",
     "output_type": "stream",
     "text": [
      "t:   1%|          | 2/180 [07:00<10:23:15, 210.08s/it, now=None]"
     ]
    },
    {
     "name": "stdout",
     "output_type": "stream",
     "text": [
      "Moviepy - Done !\n",
      "Moviepy - video ready ../Data/Fall/cropped/normal_32.mp4\n",
      "Moviepy - Building video ../Data/Fall/cropped/normal_25.mp4.\n",
      "Moviepy - Writing video ../Data/Fall/cropped/normal_25.mp4\n",
      "\n"
     ]
    },
    {
     "name": "stderr",
     "output_type": "stream",
     "text": [
      "t:   1%|          | 2/180 [07:00<10:24:09, 210.39s/it, now=None]"
     ]
    },
    {
     "name": "stdout",
     "output_type": "stream",
     "text": [
      "Moviepy - Done !\n",
      "Moviepy - video ready ../Data/Fall/cropped/normal_25.mp4\n",
      "Moviepy - Building video ../Data/Fall/cropped/normal_24.mp4.\n",
      "Moviepy - Writing video ../Data/Fall/cropped/normal_24.mp4\n",
      "\n"
     ]
    },
    {
     "name": "stderr",
     "output_type": "stream",
     "text": [
      "t:   1%|          | 2/180 [07:01<10:24:39, 210.56s/it, now=None]"
     ]
    },
    {
     "name": "stdout",
     "output_type": "stream",
     "text": [
      "Moviepy - Done !\n",
      "Moviepy - video ready ../Data/Fall/cropped/normal_24.mp4\n",
      "Moviepy - Building video ../Data/Fall/cropped/fall_8_cam0.mp4.\n",
      "Moviepy - Writing video ../Data/Fall/cropped/fall_8_cam0.mp4\n",
      "\n"
     ]
    },
    {
     "name": "stderr",
     "output_type": "stream",
     "text": [
      "t:   1%|          | 2/180 [07:01<10:25:32, 210.86s/it, now=None]"
     ]
    },
    {
     "name": "stdout",
     "output_type": "stream",
     "text": [
      "Moviepy - Done !\n",
      "Moviepy - video ready ../Data/Fall/cropped/fall_8_cam0.mp4\n",
      "Moviepy - Building video ../Data/Fall/cropped/fall_30_cam0.mp4.\n",
      "Moviepy - Writing video ../Data/Fall/cropped/fall_30_cam0.mp4\n",
      "\n"
     ]
    },
    {
     "name": "stderr",
     "output_type": "stream",
     "text": [
      "t:   1%|          | 2/180 [07:02<10:26:26, 211.16s/it, now=None]"
     ]
    },
    {
     "name": "stdout",
     "output_type": "stream",
     "text": [
      "Moviepy - Done !\n",
      "Moviepy - video ready ../Data/Fall/cropped/fall_30_cam0.mp4\n",
      "Moviepy - Building video ../Data/Fall/cropped/fall_8_cam1.mp4.\n",
      "Moviepy - Writing video ../Data/Fall/cropped/fall_8_cam1.mp4\n",
      "\n"
     ]
    },
    {
     "name": "stderr",
     "output_type": "stream",
     "text": [
      "t:   1%|          | 2/180 [07:03<10:27:29, 211.52s/it, now=None]"
     ]
    },
    {
     "name": "stdout",
     "output_type": "stream",
     "text": [
      "Moviepy - Done !\n",
      "Moviepy - video ready ../Data/Fall/cropped/fall_8_cam1.mp4\n",
      "Moviepy - Building video ../Data/Fall/cropped/fall_24_cam0.mp4.\n",
      "Moviepy - Writing video ../Data/Fall/cropped/fall_24_cam0.mp4\n",
      "\n"
     ]
    },
    {
     "name": "stderr",
     "output_type": "stream",
     "text": [
      "t:   1%|          | 2/180 [07:03<10:28:17, 211.78s/it, now=None]"
     ]
    },
    {
     "name": "stdout",
     "output_type": "stream",
     "text": [
      "Moviepy - Done !\n",
      "Moviepy - video ready ../Data/Fall/cropped/fall_24_cam0.mp4\n",
      "Moviepy - Building video ../Data/Fall/cropped/normal_35.mp4.\n",
      "Moviepy - Writing video ../Data/Fall/cropped/normal_35.mp4\n",
      "\n"
     ]
    },
    {
     "name": "stderr",
     "output_type": "stream",
     "text": [
      "t:   1%|          | 2/180 [07:04<10:30:17, 212.46s/it, now=None]"
     ]
    },
    {
     "name": "stdout",
     "output_type": "stream",
     "text": [
      "Moviepy - Done !\n",
      "Moviepy - video ready ../Data/Fall/cropped/normal_35.mp4\n",
      "Moviepy - Building video ../Data/Fall/cropped/fall_15_cam0.mp4.\n",
      "Moviepy - Writing video ../Data/Fall/cropped/fall_15_cam0.mp4\n",
      "\n"
     ]
    },
    {
     "name": "stderr",
     "output_type": "stream",
     "text": [
      "t:   1%|          | 2/180 [07:05<10:31:04, 212.72s/it, now=None]"
     ]
    },
    {
     "name": "stdout",
     "output_type": "stream",
     "text": [
      "Moviepy - Done !\n",
      "Moviepy - video ready ../Data/Fall/cropped/fall_15_cam0.mp4\n",
      "Moviepy - Building video ../Data/Fall/cropped/normal_11.mp4.\n",
      "Moviepy - Writing video ../Data/Fall/cropped/normal_11.mp4\n",
      "\n"
     ]
    },
    {
     "name": "stderr",
     "output_type": "stream",
     "text": [
      "t:   1%|          | 2/180 [07:06<10:33:01, 213.38s/it, now=None]"
     ]
    },
    {
     "name": "stdout",
     "output_type": "stream",
     "text": [
      "Moviepy - Done !\n",
      "Moviepy - video ready ../Data/Fall/cropped/normal_11.mp4\n",
      "Moviepy - Building video ../Data/Fall/cropped/normal_4.mp4.\n",
      "Moviepy - Writing video ../Data/Fall/cropped/normal_4.mp4\n",
      "\n"
     ]
    },
    {
     "name": "stderr",
     "output_type": "stream",
     "text": [
      "t:   1%|          | 2/180 [07:07<10:34:10, 213.77s/it, now=None]"
     ]
    },
    {
     "name": "stdout",
     "output_type": "stream",
     "text": [
      "Moviepy - Done !\n",
      "Moviepy - video ready ../Data/Fall/cropped/normal_4.mp4\n",
      "Moviepy - Building video ../Data/Fall/cropped/fall_30_cam1.mp4.\n",
      "Moviepy - Writing video ../Data/Fall/cropped/fall_30_cam1.mp4\n",
      "\n"
     ]
    },
    {
     "name": "stderr",
     "output_type": "stream",
     "text": [
      "t:   1%|          | 2/180 [07:08<10:35:03, 214.06s/it, now=None]"
     ]
    },
    {
     "name": "stdout",
     "output_type": "stream",
     "text": [
      "Moviepy - Done !\n",
      "Moviepy - video ready ../Data/Fall/cropped/fall_30_cam1.mp4\n",
      "Moviepy - Building video ../Data/Fall/cropped/fall_9_cam0.mp4.\n",
      "Moviepy - Writing video ../Data/Fall/cropped/fall_9_cam0.mp4\n",
      "\n"
     ]
    },
    {
     "name": "stderr",
     "output_type": "stream",
     "text": [
      "t:   1%|          | 2/180 [07:09<10:36:30, 214.55s/it, now=None]"
     ]
    },
    {
     "name": "stdout",
     "output_type": "stream",
     "text": [
      "Moviepy - Done !\n",
      "Moviepy - video ready ../Data/Fall/cropped/fall_9_cam0.mp4\n",
      "Moviepy - Building video ../Data/Fall/cropped/fall_13_cam0.mp4.\n",
      "Moviepy - Writing video ../Data/Fall/cropped/fall_13_cam0.mp4\n",
      "\n"
     ]
    },
    {
     "name": "stderr",
     "output_type": "stream",
     "text": [
      "t:   1%|          | 2/180 [07:09<10:37:24, 214.86s/it, now=None]"
     ]
    },
    {
     "name": "stdout",
     "output_type": "stream",
     "text": [
      "Moviepy - Done !\n",
      "Moviepy - video ready ../Data/Fall/cropped/fall_13_cam0.mp4\n",
      "Moviepy - Building video ../Data/Fall/cropped/fall_5_cam0.mp4.\n",
      "Moviepy - Writing video ../Data/Fall/cropped/fall_5_cam0.mp4\n",
      "\n"
     ]
    },
    {
     "name": "stderr",
     "output_type": "stream",
     "text": [
      "t:   1%|          | 2/180 [07:10<10:38:29, 215.22s/it, now=None]"
     ]
    },
    {
     "name": "stdout",
     "output_type": "stream",
     "text": [
      "Moviepy - Done !\n",
      "Moviepy - video ready ../Data/Fall/cropped/fall_5_cam0.mp4\n",
      "Moviepy - Building video ../Data/Fall/cropped/normal_21.mp4.\n",
      "Moviepy - Writing video ../Data/Fall/cropped/normal_21.mp4\n",
      "\n"
     ]
    },
    {
     "name": "stderr",
     "output_type": "stream",
     "text": [
      "t:   1%|          | 2/180 [07:11<10:40:25, 215.88s/it, now=None]"
     ]
    },
    {
     "name": "stdout",
     "output_type": "stream",
     "text": [
      "Moviepy - Done !\n",
      "Moviepy - video ready ../Data/Fall/cropped/normal_21.mp4\n",
      "Moviepy - Building video ../Data/Fall/cropped/normal_10.mp4.\n",
      "Moviepy - Writing video ../Data/Fall/cropped/normal_10.mp4\n",
      "\n"
     ]
    },
    {
     "name": "stderr",
     "output_type": "stream",
     "text": [
      "t:   1%|          | 2/180 [07:13<10:42:34, 216.60s/it, now=None]"
     ]
    },
    {
     "name": "stdout",
     "output_type": "stream",
     "text": [
      "Moviepy - Done !\n",
      "Moviepy - video ready ../Data/Fall/cropped/normal_10.mp4\n",
      "Moviepy - Building video ../Data/Fall/cropped/fall_24_cam1.mp4.\n",
      "Moviepy - Writing video ../Data/Fall/cropped/fall_24_cam1.mp4\n",
      "\n"
     ]
    },
    {
     "name": "stderr",
     "output_type": "stream",
     "text": [
      "t:   1%|          | 2/180 [07:13<10:43:20, 216.86s/it, now=None]"
     ]
    },
    {
     "name": "stdout",
     "output_type": "stream",
     "text": [
      "Moviepy - Done !\n",
      "Moviepy - video ready ../Data/Fall/cropped/fall_24_cam1.mp4\n",
      "Moviepy - Building video ../Data/Fall/cropped/fall_11_cam0.mp4.\n",
      "Moviepy - Writing video ../Data/Fall/cropped/fall_11_cam0.mp4\n",
      "\n"
     ]
    },
    {
     "name": "stderr",
     "output_type": "stream",
     "text": [
      "t:   1%|          | 2/180 [07:14<10:44:26, 217.23s/it, now=None]"
     ]
    },
    {
     "name": "stdout",
     "output_type": "stream",
     "text": [
      "Moviepy - Done !\n",
      "Moviepy - video ready ../Data/Fall/cropped/fall_11_cam0.mp4\n",
      "Moviepy - Building video ../Data/Fall/cropped/fall_12_cam1.mp4.\n",
      "Moviepy - Writing video ../Data/Fall/cropped/fall_12_cam1.mp4\n",
      "\n"
     ]
    },
    {
     "name": "stderr",
     "output_type": "stream",
     "text": [
      "t:   1%|          | 2/180 [07:15<10:45:23, 217.55s/it, now=None]"
     ]
    },
    {
     "name": "stdout",
     "output_type": "stream",
     "text": [
      "Moviepy - Done !\n",
      "Moviepy - video ready ../Data/Fall/cropped/fall_12_cam1.mp4\n",
      "Moviepy - Building video ../Data/Fall/cropped/normal_13.mp4.\n",
      "Moviepy - Writing video ../Data/Fall/cropped/normal_13.mp4\n",
      "\n"
     ]
    },
    {
     "name": "stderr",
     "output_type": "stream",
     "text": [
      "t:   1%|          | 2/180 [07:16<10:47:31, 218.27s/it, now=None]"
     ]
    },
    {
     "name": "stdout",
     "output_type": "stream",
     "text": [
      "Moviepy - Done !\n",
      "Moviepy - video ready ../Data/Fall/cropped/normal_13.mp4\n",
      "Moviepy - Building video ../Data/Fall/cropped/normal_17.mp4.\n",
      "Moviepy - Writing video ../Data/Fall/cropped/normal_17.mp4\n",
      "\n"
     ]
    },
    {
     "name": "stderr",
     "output_type": "stream",
     "text": [
      "t:   1%|          | 2/180 [07:17<10:49:21, 218.89s/it, now=None]"
     ]
    },
    {
     "name": "stdout",
     "output_type": "stream",
     "text": [
      "Moviepy - Done !\n",
      "Moviepy - video ready ../Data/Fall/cropped/normal_17.mp4\n",
      "Moviepy - Building video ../Data/Fall/cropped/normal_14.mp4.\n",
      "Moviepy - Writing video ../Data/Fall/cropped/normal_14.mp4\n",
      "\n"
     ]
    },
    {
     "name": "stderr",
     "output_type": "stream",
     "text": [
      "t:   1%|          | 2/180 [07:18<10:51:09, 219.49s/it, now=None]"
     ]
    },
    {
     "name": "stdout",
     "output_type": "stream",
     "text": [
      "Moviepy - Done !\n",
      "Moviepy - video ready ../Data/Fall/cropped/normal_14.mp4\n",
      "Moviepy - Building video ../Data/Fall/cropped/normal_29.mp4.\n",
      "Moviepy - Writing video ../Data/Fall/cropped/normal_29.mp4\n",
      "\n"
     ]
    },
    {
     "name": "stderr",
     "output_type": "stream",
     "text": [
      "t:   1%|          | 2/180 [07:19<10:51:39, 219.66s/it, now=None]"
     ]
    },
    {
     "name": "stdout",
     "output_type": "stream",
     "text": [
      "Moviepy - Done !\n",
      "Moviepy - video ready ../Data/Fall/cropped/normal_29.mp4\n",
      "Moviepy - Building video ../Data/Fall/cropped/fall_17_cam1.mp4.\n",
      "Moviepy - Writing video ../Data/Fall/cropped/fall_17_cam1.mp4\n",
      "\n"
     ]
    },
    {
     "name": "stderr",
     "output_type": "stream",
     "text": [
      "t:   1%|          | 2/180 [07:19<10:52:06, 219.81s/it, now=None]"
     ]
    },
    {
     "name": "stdout",
     "output_type": "stream",
     "text": [
      "Moviepy - Done !\n",
      "Moviepy - video ready ../Data/Fall/cropped/fall_17_cam1.mp4\n",
      "Moviepy - Building video ../Data/Fall/cropped/fall_28_cam0.mp4.\n",
      "Moviepy - Writing video ../Data/Fall/cropped/fall_28_cam0.mp4\n",
      "\n"
     ]
    },
    {
     "name": "stderr",
     "output_type": "stream",
     "text": [
      "t:   1%|          | 2/180 [07:19<10:52:30, 219.94s/it, now=None]"
     ]
    },
    {
     "name": "stdout",
     "output_type": "stream",
     "text": [
      "Moviepy - Done !\n",
      "Moviepy - video ready ../Data/Fall/cropped/fall_28_cam0.mp4\n",
      "Moviepy - Building video ../Data/Fall/cropped/fall_15_cam1.mp4.\n",
      "Moviepy - Writing video ../Data/Fall/cropped/fall_15_cam1.mp4\n",
      "\n"
     ]
    },
    {
     "name": "stderr",
     "output_type": "stream",
     "text": [
      "t:   1%|          | 2/180 [07:20<10:52:55, 220.09s/it, now=None]"
     ]
    },
    {
     "name": "stdout",
     "output_type": "stream",
     "text": [
      "Moviepy - Done !\n",
      "Moviepy - video ready ../Data/Fall/cropped/fall_15_cam1.mp4\n",
      "Moviepy - Building video ../Data/Fall/cropped/fall_29_cam0.mp4.\n",
      "Moviepy - Writing video ../Data/Fall/cropped/fall_29_cam0.mp4\n",
      "\n"
     ]
    },
    {
     "name": "stderr",
     "output_type": "stream",
     "text": [
      "t:   1%|          | 2/180 [07:20<10:53:21, 220.23s/it, now=None]"
     ]
    },
    {
     "name": "stdout",
     "output_type": "stream",
     "text": [
      "Moviepy - Done !\n",
      "Moviepy - video ready ../Data/Fall/cropped/fall_29_cam0.mp4\n",
      "Moviepy - Building video ../Data/Fall/cropped/fall_2_cam1.mp4.\n",
      "Moviepy - Writing video ../Data/Fall/cropped/fall_2_cam1.mp4\n",
      "\n"
     ]
    },
    {
     "name": "stderr",
     "output_type": "stream",
     "text": [
      "t:   1%|          | 2/180 [07:20<10:53:50, 220.40s/it, now=None]"
     ]
    },
    {
     "name": "stdout",
     "output_type": "stream",
     "text": [
      "Moviepy - Done !\n",
      "Moviepy - video ready ../Data/Fall/cropped/fall_2_cam1.mp4\n",
      "Moviepy - Building video ../Data/Fall/cropped/fall_22_cam1.mp4.\n",
      "Moviepy - Writing video ../Data/Fall/cropped/fall_22_cam1.mp4\n",
      "\n"
     ]
    },
    {
     "name": "stderr",
     "output_type": "stream",
     "text": [
      "t:   1%|          | 2/180 [07:21<10:54:15, 220.53s/it, now=None]"
     ]
    },
    {
     "name": "stdout",
     "output_type": "stream",
     "text": [
      "Moviepy - Done !\n",
      "Moviepy - video ready ../Data/Fall/cropped/fall_22_cam1.mp4\n",
      "Moviepy - Building video ../Data/Fall/cropped/normal_27.mp4.\n",
      "Moviepy - Writing video ../Data/Fall/cropped/normal_27.mp4\n",
      "\n"
     ]
    },
    {
     "name": "stderr",
     "output_type": "stream",
     "text": [
      "t:   1%|          | 2/180 [07:21<10:54:42, 220.69s/it, now=None]"
     ]
    },
    {
     "name": "stdout",
     "output_type": "stream",
     "text": [
      "Moviepy - Done !\n",
      "Moviepy - video ready ../Data/Fall/cropped/normal_27.mp4\n",
      "Moviepy - Building video ../Data/Fall/cropped/normal_23.mp4.\n",
      "Moviepy - Writing video ../Data/Fall/cropped/normal_23.mp4\n",
      "\n"
     ]
    },
    {
     "name": "stderr",
     "output_type": "stream",
     "text": [
      "t:   1%|          | 2/180 [07:21<10:55:31, 220.96s/it, now=None]"
     ]
    },
    {
     "name": "stdout",
     "output_type": "stream",
     "text": [
      "Moviepy - Done !\n",
      "Moviepy - video ready ../Data/Fall/cropped/normal_23.mp4\n",
      "Moviepy - Building video ../Data/Fall/cropped/fall_1_cam1.mp4.\n",
      "Moviepy - Writing video ../Data/Fall/cropped/fall_1_cam1.mp4\n",
      "\n"
     ]
    },
    {
     "name": "stderr",
     "output_type": "stream",
     "text": [
      "t:   1%|          | 2/180 [07:22<10:56:04, 221.15s/it, now=None]"
     ]
    },
    {
     "name": "stdout",
     "output_type": "stream",
     "text": [
      "Moviepy - Done !\n",
      "Moviepy - video ready ../Data/Fall/cropped/fall_1_cam1.mp4\n",
      "Moviepy - Building video ../Data/Fall/cropped/normal_31.mp4.\n",
      "Moviepy - Writing video ../Data/Fall/cropped/normal_31.mp4\n",
      "\n"
     ]
    },
    {
     "name": "stderr",
     "output_type": "stream",
     "text": [
      "t:   1%|          | 2/180 [07:22<10:56:56, 221.44s/it, now=None]"
     ]
    },
    {
     "name": "stdout",
     "output_type": "stream",
     "text": [
      "Moviepy - Done !\n",
      "Moviepy - video ready ../Data/Fall/cropped/normal_31.mp4\n",
      "Moviepy - Building video ../Data/Fall/cropped/fall_21_cam1.mp4.\n",
      "Moviepy - Writing video ../Data/Fall/cropped/fall_21_cam1.mp4\n",
      "\n"
     ]
    },
    {
     "name": "stderr",
     "output_type": "stream",
     "text": [
      "t:   1%|          | 2/180 [07:23<10:57:20, 221.57s/it, now=None]"
     ]
    },
    {
     "name": "stdout",
     "output_type": "stream",
     "text": [
      "Moviepy - Done !\n",
      "Moviepy - video ready ../Data/Fall/cropped/fall_21_cam1.mp4\n",
      "Moviepy - Building video ../Data/Fall/cropped/fall_7_cam0.mp4.\n",
      "Moviepy - Writing video ../Data/Fall/cropped/fall_7_cam0.mp4\n",
      "\n"
     ]
    },
    {
     "name": "stderr",
     "output_type": "stream",
     "text": [
      "t:   1%|          | 2/180 [07:23<10:57:56, 221.78s/it, now=None]"
     ]
    },
    {
     "name": "stdout",
     "output_type": "stream",
     "text": [
      "Moviepy - Done !\n",
      "Moviepy - video ready ../Data/Fall/cropped/fall_7_cam0.mp4\n",
      "Moviepy - Building video ../Data/Fall/cropped/fall_11_cam1.mp4.\n",
      "Moviepy - Writing video ../Data/Fall/cropped/fall_11_cam1.mp4\n",
      "\n"
     ]
    },
    {
     "name": "stderr",
     "output_type": "stream",
     "text": [
      "t:   1%|          | 2/180 [07:23<10:58:32, 221.98s/it, now=None]"
     ]
    },
    {
     "name": "stdout",
     "output_type": "stream",
     "text": [
      "Moviepy - Done !\n",
      "Moviepy - video ready ../Data/Fall/cropped/fall_11_cam1.mp4\n",
      "Moviepy - Building video ../Data/Fall/cropped/fall_6_cam1.mp4.\n",
      "Moviepy - Writing video ../Data/Fall/cropped/fall_6_cam1.mp4\n",
      "\n"
     ]
    },
    {
     "name": "stderr",
     "output_type": "stream",
     "text": [
      "t:   1%|          | 2/180 [07:24<10:59:05, 222.17s/it, now=None]"
     ]
    },
    {
     "name": "stdout",
     "output_type": "stream",
     "text": [
      "Moviepy - Done !\n",
      "Moviepy - video ready ../Data/Fall/cropped/fall_6_cam1.mp4\n",
      "Moviepy - Building video ../Data/Fall/cropped/fall_21_cam0.mp4.\n",
      "Moviepy - Writing video ../Data/Fall/cropped/fall_21_cam0.mp4\n",
      "\n"
     ]
    },
    {
     "name": "stderr",
     "output_type": "stream",
     "text": [
      "t:   1%|          | 2/180 [07:24<10:59:23, 222.27s/it, now=None]"
     ]
    },
    {
     "name": "stdout",
     "output_type": "stream",
     "text": [
      "Moviepy - Done !\n",
      "Moviepy - video ready ../Data/Fall/cropped/fall_21_cam0.mp4\n"
     ]
    }
   ],
   "source": [
    "import os\n",
    "\n",
    "for file in os.listdir(path):\n",
    "    \n",
    "    # if directory, we skip\n",
    "    if os.path.isdir(path + file):\n",
    "        continue\n",
    "\n",
    "    # Load video\n",
    "    clip = VideoFileClip(path + file)\n",
    "\n",
    "    # Crop video\n",
    "    cropped_clip = crop(clip, x1=clip.size[0]//2, y1=0, x2=clip.size[0], y2=clip.size[1])\n",
    "\n",
    "    # Save cropped video\n",
    "    cropped_clip.write_videofile(os.path.join(path, \"cropped\", file), codec='libx264')  # Keep the original encoding\n",
    "\n",
    "    os.remove(path + file)"
   ]
  }
 ],
 "metadata": {
  "kernelspec": {
   "display_name": "mmposevenv",
   "language": "python",
   "name": "python3"
  },
  "language_info": {
   "codemirror_mode": {
    "name": "ipython",
    "version": 3
   },
   "file_extension": ".py",
   "mimetype": "text/x-python",
   "name": "python",
   "nbconvert_exporter": "python",
   "pygments_lexer": "ipython3",
   "version": "3.9.16"
  },
  "orig_nbformat": 4
 },
 "nbformat": 4,
 "nbformat_minor": 2
}
