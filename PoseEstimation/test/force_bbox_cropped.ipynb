{
 "cells": [
  {
   "cell_type": "markdown",
   "metadata": {},
   "source": [
    "# Import"
   ]
  },
  {
   "cell_type": "code",
   "execution_count": 1,
   "metadata": {},
   "outputs": [
    {
     "name": "stdout",
     "output_type": "stream",
     "text": [
      "Device :  cuda\n",
      "Loads checkpoint by http backend from path: https://download.openmmlab.com/mmdetection/v2.0/faster_rcnn/faster_rcnn_r50_fpn_1x_coco/faster_rcnn_r50_fpn_1x_coco_20200130-047c8118.pth\n",
      "Loads checkpoint by http backend from path: https://download.openmmlab.com/mmpose/v1/projects/rtmposev1/rtmpose-m_simcc-aic-coco_pt-aic-coco_420e-256x192-63eb25f7_20230126.pth\n",
      "08/09 13:05:03 - mmengine - \u001b[5m\u001b[4m\u001b[33mWARNING\u001b[0m - `Visualizer` backend is not initialized because save_dir is None.\n"
     ]
    }
   ],
   "source": [
    "import numpy as np\n",
    "import matplotlib.pyplot as plt\n",
    "import pandas as pd\n",
    "import sys\n",
    "import os\n",
    "root_dir = '../../'\n",
    "sys.path.insert(0, os.path.abspath(root_dir))\n",
    "os.chdir(os.path.abspath(root_dir))\n",
    "from PoseEstimation.process_video import process_one_video"
   ]
  },
  {
   "cell_type": "markdown",
   "metadata": {},
   "source": [
    "## Test on a cropped video"
   ]
  },
  {
   "cell_type": "code",
   "execution_count": 14,
   "metadata": {},
   "outputs": [],
   "source": [
    "video_path = 'Data/Fall/cropped/fall_2_cam0.mp4'\n",
    "bboxes_list = None"
   ]
  },
  {
   "cell_type": "code",
   "execution_count": 15,
   "metadata": {},
   "outputs": [
    {
     "name": "stderr",
     "output_type": "stream",
     "text": [
      "OpenCV: FFMPEG: tag 0x44495658/'XVID' is not supported with codec id 12 and format 'mp4 / MP4 (MPEG-4 Part 14)'\n",
      "OpenCV: FFMPEG: fallback to use tag 0x7634706d/'mp4v'\n"
     ]
    },
    {
     "name": "stdout",
     "output_type": "stream",
     "text": [
      "FPS :  1.362320441055816\n",
      "FPS :  1.4275867092256807\n",
      "FPS :  1.4522241124209136\n",
      "FPS :  1.4647845514496658\n",
      "FPS :  1.4727206524445076\n",
      "FPS :  1.4773336940105046\n",
      "FPS :  1.4804609255825558\n",
      "FPS :  1.484171926413904\n",
      "FPS :  1.4857463935299737\n",
      "FPS :  1.4869268226588246\n",
      "FPS :  1.4888150605507287\n",
      "FPS :  1.4896967446115914\n",
      "FPS :  1.490383592481983\n",
      "FPS :  1.4912855160338399\n",
      "FPS :  1.4918204794962466\n",
      "FPS :  1.4921308498394903\n",
      "FPS :  1.4929230530347923\n",
      "FPS :  1.4932652175891805\n",
      "FPS :  1.4937211316099623\n",
      "FPS :  1.4940442483242866\n",
      "FPS :  1.4939729698928614\n",
      "FPS :  1.4942117014393157\n",
      "FPS :  1.4946415062487344\n",
      "FPS :  1.4948369893246205\n",
      "FPS :  1.4952563738187707\n",
      "FPS :  1.4955914218159052\n",
      "FPS :  1.4960780832797391\n",
      "FPS :  1.4963655955858224\n",
      "FPS :  1.4967126782282518\n",
      "FPS :  1.4971880498594832\n",
      "FPS :  1.4976487062248909\n",
      "FPS :  1.4976241356379922\n",
      "FPS :  1.4976802635592907\n",
      "FPS :  1.4979431821991922\n",
      "FPS :  1.498264465162385\n",
      "FPS :  1.4982712694691118\n",
      "FPS :  1.4983176598479961\n",
      "FPS :  1.4985527554266818\n",
      "FPS :  1.4988603499885707\n",
      "FPS :  1.4988694388780177\n",
      "FPS :  1.498772610114705\n",
      "FPS :  1.498866219345199\n",
      "FPS :  1.4988977946668331\n",
      "FPS :  1.4989699024507213\n",
      "FPS :  1.498955500775115\n",
      "FPS :  1.498928578057164\n",
      "FPS :  1.4988917583161847\n",
      "FPS :  1.498880767611477\n",
      "FPS :  1.498979590430119\n",
      "FPS :  1.4989919348714125\n",
      "FPS :  1.4990607529714615\n",
      "FPS :  1.4990844575417035\n",
      "FPS :  1.4991073390741472\n",
      "FPS :  1.49915530194985\n",
      "FPS :  1.4991456587356842\n",
      "FPS :  1.499121979037135\n",
      "FPS :  1.499155006351279\n",
      "FPS :  1.499122752734441\n",
      "FPS :  1.4990577215758467\n",
      "FPS :  1.4990483662766299\n",
      "FPS :  1.4990180284522687\n",
      "FPS :  1.4989274973152416\n",
      "FPS :  1.4988729232668445\n",
      "FPS :  1.4987971117639385\n",
      "FPS :  1.498660862362641\n",
      "FPS :  1.498638358001106\n",
      "FPS :  1.4985760565147872\n",
      "FPS :  1.4984966810850284\n",
      "FPS :  1.4984147345810486\n",
      "FPS :  1.498296340893061\n",
      "FPS :  1.4982042965373228\n",
      "FPS :  1.4981021262933154\n",
      "FPS :  1.4980377578823874\n",
      "FPS :  1.4979925942879613\n",
      "FPS :  1.4979165469582945\n",
      "FPS :  1.497832218581496\n",
      "FPS :  1.497856536106378\n",
      "FPS :  1.4979096867022406\n",
      "FPS :  1.4979316857743172\n",
      "FPS :  1.49791812194967\n",
      "FPS :  1.4979282198478656\n",
      "FPS :  1.4978865272357684\n",
      "FPS :  1.4978883964319982\n",
      "FPS :  1.4978285024961107\n",
      "FPS :  1.4971757527751839\n",
      "FPS :  1.4972611124086501\n",
      "FPS :  1.497307298602139\n",
      "FPS :  1.496708218187415\n",
      "FPS :  1.4956738581817175\n",
      "FPS :  1.4957741854863384\n",
      "FPS :  1.495325303138195\n",
      "FPS :  1.4954084149620501\n",
      "FPS :  1.4948856069737968\n",
      "FPS :  1.494321041420142\n",
      "FPS :  1.4943567192153961\n",
      "FPS :  1.493766806923206\n",
      "FPS :  1.4931940411966798\n",
      "FPS :  1.4926892644494134\n",
      "FPS :  1.4922153290126938\n",
      "FPS :  1.4918203945990824\n",
      "FPS :  1.4913585109162204\n",
      "FPS :  1.4908435589256586\n",
      "FPS :  1.4902905834275424\n",
      "FPS :  1.4897869629202154\n",
      "FPS :  1.4893436405293656\n",
      "FPS :  1.4888901612321328\n",
      "FPS :  1.488516999876306\n",
      "FPS :  1.488162165513636\n",
      "FPS :  1.4878006914241189\n",
      "FPS :  1.4873421987856954\n",
      "FPS :  1.486888970329237\n",
      "'img'\n"
     ]
    }
   ],
   "source": [
    "process_one_video(video_path, output_directory='test/', bboxes_list=None, show_interval=0)"
   ]
  }
 ],
 "metadata": {
  "kernelspec": {
   "display_name": "mmposevenv",
   "language": "python",
   "name": "python3"
  },
  "language_info": {
   "codemirror_mode": {
    "name": "ipython",
    "version": 3
   },
   "file_extension": ".py",
   "mimetype": "text/x-python",
   "name": "python",
   "nbconvert_exporter": "python",
   "pygments_lexer": "ipython3",
   "version": "3.9.16"
  },
  "orig_nbformat": 4
 },
 "nbformat": 4,
 "nbformat_minor": 2
}
